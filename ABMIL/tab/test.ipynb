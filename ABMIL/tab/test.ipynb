{
 "cells": [
  {
   "cell_type": "code",
   "execution_count": 1,
   "metadata": {},
   "outputs": [],
   "source": [
    "# !pip install fancyimpute"
   ]
  },
  {
   "cell_type": "code",
   "execution_count": 2,
   "metadata": {},
   "outputs": [],
   "source": [
    "import pandas as pd\n",
    "from matplotlib import pyplot as plt\n",
    "from dataprocessing import *"
   ]
  },
  {
   "cell_type": "code",
   "execution_count": 4,
   "metadata": {},
   "outputs": [],
   "source": [
    "df = pd.read_csv(\"dataset.csv\") # dataCleaning.py를 돌린 상태\n",
    "category_columns = [\n",
    "            'Location', 'Diagnosis', 'Growth phase', 'Level of invasion', \n",
    "            'Histologic subtype', 'Tumor cell type', 'Surgical margin', 'Lymph node', \n",
    "            'Precursor lesion', 'tumor_length_category', 'tumor_width_category',\n",
    "            'tumor_height_category', 'Area of tumor_category',\n",
    "            'Volume of tumor_category', 'Breslow thickness_category',\n",
    "            'Mitosis_category'\n",
    "        ]\n",
    "numerical_columns = ['Depth of invasion', 'Breslow thickness',\n",
    "       'tumor_length', 'tumor_width', 'tumor_height', 'Area of tumor',\n",
    "       'Volume of tumor', 'Mitosis_Value']"
   ]
  },
  {
   "cell_type": "code",
   "execution_count": 10,
   "metadata": {},
   "outputs": [
    {
     "data": {
      "text/plain": [
       "(245, 26)"
      ]
     },
     "execution_count": 10,
     "metadata": {},
     "output_type": "execute_result"
    }
   ],
   "source": [
    "df.shape"
   ]
  },
  {
   "cell_type": "code",
   "execution_count": 6,
   "metadata": {},
   "outputs": [
    {
     "data": {
      "text/plain": [
       "Index(['Patient_ID', 'Location', 'Diagnosis', 'Growth phase',\n",
       "       'Level of invasion', 'Histologic subtype', 'Tumor cell type',\n",
       "       'Surgical margin', 'Lymph node', 'Precursor lesion',\n",
       "       'tumor_length_category', 'tumor_width_category',\n",
       "       'tumor_height_category', 'Area of tumor_category',\n",
       "       'Volume of tumor_category', 'Breslow thickness_category',\n",
       "       'Mitosis_category', 'Depth of invasion', 'Breslow thickness',\n",
       "       'tumor_length', 'tumor_width', 'tumor_height', 'Area of tumor',\n",
       "       'Volume of tumor', 'Mitosis_Value', 'Recurrence'],\n",
       "      dtype='object')"
      ]
     },
     "execution_count": 6,
     "metadata": {},
     "output_type": "execute_result"
    }
   ],
   "source": [
    "df.columns"
   ]
  },
  {
   "cell_type": "code",
   "execution_count": 7,
   "metadata": {},
   "outputs": [],
   "source": [
    "train, test, category_cols, category_dims, category_indices = TransformDataToTabNet(df, category_columns, numerical_columns, 'means').get_data()"
   ]
  },
  {
   "cell_type": "code",
   "execution_count": 9,
   "metadata": {},
   "outputs": [
    {
     "data": {
      "text/plain": [
       "(25,)"
      ]
     },
     "execution_count": 9,
     "metadata": {},
     "output_type": "execute_result"
    }
   ],
   "source": [
    "train[0].shape"
   ]
  },
  {
   "cell_type": "code",
   "execution_count": 5,
   "metadata": {},
   "outputs": [
    {
     "data": {
      "text/plain": [
       "(217, 25)"
      ]
     },
     "execution_count": 5,
     "metadata": {},
     "output_type": "execute_result"
    }
   ],
   "source": [
    "train.shape"
   ]
  },
  {
   "cell_type": "code",
   "execution_count": 5,
   "metadata": {},
   "outputs": [],
   "source": [
    "from sklearn.model_selection import train_test_split\n",
    "\n",
    "# 데이터와 레이블 분리 (예: 'y'가 레이블 칼럼 이름이라고 가정)\n",
    "X = train[:, :-1]\n",
    "y = train[:, -1]\n",
    "\n",
    "# 데이터를 훈련 세트와 검증 세트로 분할\n",
    "X_train, X_valid, y_train, y_valid = train_test_split(X, y, test_size=0.2, random_state=56)\n",
    "# y_train = y_train.astype('int64')\n",
    "# y_valid = y_valid.astype('int64')\n",
    "\n",
    "X_test = test[:, :]"
   ]
  },
  {
   "cell_type": "code",
   "execution_count": 6,
   "metadata": {},
   "outputs": [
    {
     "name": "stderr",
     "output_type": "stream",
     "text": [
      "/home/admin/.conda/envs/maicsh/lib/python3.9/site-packages/pytorch_tabnet/abstract_model.py:82: UserWarning: Device used : cuda\n",
      "  warnings.warn(f\"Device used : {self.device}\")\n"
     ]
    }
   ],
   "source": [
    "import torch\n",
    "from pytorch_tabnet.pretraining import TabNetPretrainer\n",
    "from pytorch_tabnet.tab_model import TabNetClassifier\n",
    "\n",
    "# TabNetPretrainer\n",
    "unsupervised_model = TabNetPretrainer(\n",
    "    cat_idxs=category_indices,\n",
    "    cat_dims=category_dims,\n",
    "    cat_emb_dim=3,\n",
    "    optimizer_fn=torch.optim.Adam,\n",
    "    optimizer_params=dict(lr=2e-2),\n",
    "    mask_type='entmax', # \"sparsemax\",\n",
    "    n_shared_decoder=1, # nb shared glu for decoding\n",
    "    n_indep_decoder=1, # nb independent glu for decoding\n",
    "    grouped_features=[[9,10,11,12,13]], # you can group features together here\n",
    "    verbose=10,\n",
    ")"
   ]
  },
  {
   "cell_type": "code",
   "execution_count": 7,
   "metadata": {},
   "outputs": [],
   "source": [
    "import os\n",
    "max_epochs = 2000 if not os.getenv(\"CI\", False) else 2 # 1000\n"
   ]
  },
  {
   "cell_type": "code",
   "execution_count": 8,
   "metadata": {},
   "outputs": [
    {
     "name": "stdout",
     "output_type": "stream",
     "text": [
      "epoch 0  | loss: 17.71158| val_0_unsup_loss_numpy: 50.57838821411133|  0:00:00s\n",
      "epoch 10 | loss: 5.60243 | val_0_unsup_loss_numpy: 10.010990142822266|  0:00:00s\n",
      "epoch 20 | loss: 2.19729 | val_0_unsup_loss_numpy: 2.504879951477051|  0:00:00s\n",
      "epoch 30 | loss: 1.35442 | val_0_unsup_loss_numpy: 1.8587000370025635|  0:00:00s\n",
      "epoch 40 | loss: 1.24575 | val_0_unsup_loss_numpy: 1.5739799737930298|  0:00:00s\n",
      "epoch 50 | loss: 0.95615 | val_0_unsup_loss_numpy: 1.263450026512146|  0:00:01s\n",
      "epoch 60 | loss: 0.82625 | val_0_unsup_loss_numpy: 1.147089958190918|  0:00:01s\n",
      "epoch 70 | loss: 0.76004 | val_0_unsup_loss_numpy: 1.0122400522232056|  0:00:01s\n",
      "epoch 80 | loss: 0.67206 | val_0_unsup_loss_numpy: 0.9148100018501282|  0:00:01s\n",
      "epoch 90 | loss: 0.69684 | val_0_unsup_loss_numpy: 0.8263800144195557|  0:00:01s\n",
      "epoch 100| loss: 0.63045 | val_0_unsup_loss_numpy: 0.7798500061035156|  0:00:01s\n",
      "epoch 110| loss: 0.6661  | val_0_unsup_loss_numpy: 0.7413600087165833|  0:00:02s\n",
      "epoch 120| loss: 0.61719 | val_0_unsup_loss_numpy: 0.7222599983215332|  0:00:02s\n",
      "epoch 130| loss: 0.61491 | val_0_unsup_loss_numpy: 0.680429995059967|  0:00:02s\n",
      "epoch 140| loss: 0.54418 | val_0_unsup_loss_numpy: 0.6607999801635742|  0:00:02s\n",
      "epoch 150| loss: 0.53611 | val_0_unsup_loss_numpy: 0.6430699825286865|  0:00:02s\n",
      "epoch 160| loss: 0.60462 | val_0_unsup_loss_numpy: 0.6313999891281128|  0:00:02s\n",
      "epoch 170| loss: 0.5122  | val_0_unsup_loss_numpy: 0.6287299990653992|  0:00:02s\n",
      "epoch 180| loss: 0.48646 | val_0_unsup_loss_numpy: 0.6241000294685364|  0:00:02s\n",
      "epoch 190| loss: 0.46691 | val_0_unsup_loss_numpy: 0.6028100252151489|  0:00:03s\n",
      "epoch 200| loss: 0.48578 | val_0_unsup_loss_numpy: 0.5963799953460693|  0:00:03s\n",
      "epoch 210| loss: 0.41904 | val_0_unsup_loss_numpy: 0.5724700093269348|  0:00:03s\n",
      "epoch 220| loss: 0.48306 | val_0_unsup_loss_numpy: 0.5586900115013123|  0:00:03s\n",
      "epoch 230| loss: 0.4879  | val_0_unsup_loss_numpy: 0.5479999780654907|  0:00:03s\n",
      "epoch 240| loss: 0.48377 | val_0_unsup_loss_numpy: 0.5306599736213684|  0:00:03s\n",
      "epoch 250| loss: 0.41611 | val_0_unsup_loss_numpy: 0.522570013999939|  0:00:04s\n",
      "epoch 260| loss: 0.38227 | val_0_unsup_loss_numpy: 0.5112599730491638|  0:00:04s\n",
      "epoch 270| loss: 0.38388 | val_0_unsup_loss_numpy: 0.5072799921035767|  0:00:04s\n",
      "epoch 280| loss: 0.34547 | val_0_unsup_loss_numpy: 0.49219998717308044|  0:00:04s\n",
      "epoch 290| loss: 0.38124 | val_0_unsup_loss_numpy: 0.4869999885559082|  0:00:04s\n",
      "epoch 300| loss: 0.43364 | val_0_unsup_loss_numpy: 0.4802800118923187|  0:00:04s\n",
      "epoch 310| loss: 0.39177 | val_0_unsup_loss_numpy: 0.488290011882782|  0:00:04s\n",
      "epoch 320| loss: 0.37343 | val_0_unsup_loss_numpy: 0.4669399857521057|  0:00:04s\n",
      "epoch 330| loss: 0.3478  | val_0_unsup_loss_numpy: 0.4563699960708618|  0:00:05s\n",
      "epoch 340| loss: 0.30858 | val_0_unsup_loss_numpy: 0.4478699862957001|  0:00:05s\n",
      "epoch 350| loss: 0.32232 | val_0_unsup_loss_numpy: 0.4469600021839142|  0:00:05s\n",
      "epoch 360| loss: 0.3157  | val_0_unsup_loss_numpy: 0.4456399977207184|  0:00:05s\n",
      "epoch 370| loss: 0.30513 | val_0_unsup_loss_numpy: 0.44530999660491943|  0:00:05s\n",
      "epoch 380| loss: 0.29646 | val_0_unsup_loss_numpy: 0.4438000023365021|  0:00:05s\n",
      "epoch 390| loss: 0.35852 | val_0_unsup_loss_numpy: 0.42789000272750854|  0:00:05s\n",
      "epoch 400| loss: 0.34844 | val_0_unsup_loss_numpy: 0.42680999636650085|  0:00:06s\n",
      "epoch 410| loss: 0.3478  | val_0_unsup_loss_numpy: 0.41982999444007874|  0:00:06s\n",
      "epoch 420| loss: 0.31898 | val_0_unsup_loss_numpy: 0.4322099983692169|  0:00:06s\n",
      "epoch 430| loss: 0.2915  | val_0_unsup_loss_numpy: 0.42980000376701355|  0:00:06s\n",
      "epoch 440| loss: 0.33369 | val_0_unsup_loss_numpy: 0.41866999864578247|  0:00:06s\n",
      "epoch 450| loss: 0.38012 | val_0_unsup_loss_numpy: 0.4171299934387207|  0:00:06s\n",
      "epoch 460| loss: 0.32792 | val_0_unsup_loss_numpy: 0.4110400080680847|  0:00:06s\n",
      "epoch 470| loss: 0.30006 | val_0_unsup_loss_numpy: 0.4233900010585785|  0:00:06s\n",
      "epoch 480| loss: 0.35945 | val_0_unsup_loss_numpy: 0.4446600079536438|  0:00:07s\n",
      "epoch 490| loss: 0.31327 | val_0_unsup_loss_numpy: 0.41670000553131104|  0:00:07s\n",
      "epoch 500| loss: 0.2974  | val_0_unsup_loss_numpy: 0.417930006980896|  0:00:07s\n",
      "epoch 510| loss: 0.26209 | val_0_unsup_loss_numpy: 0.42092999815940857|  0:00:07s\n",
      "epoch 520| loss: 0.26495 | val_0_unsup_loss_numpy: 0.4190700054168701|  0:00:07s\n",
      "epoch 530| loss: 0.28169 | val_0_unsup_loss_numpy: 0.40342000126838684|  0:00:07s\n",
      "epoch 540| loss: 0.37118 | val_0_unsup_loss_numpy: 0.414000004529953|  0:00:07s\n",
      "epoch 550| loss: 0.29097 | val_0_unsup_loss_numpy: 0.4024899899959564|  0:00:07s\n",
      "epoch 560| loss: 0.35019 | val_0_unsup_loss_numpy: 0.4179899990558624|  0:00:08s\n",
      "epoch 570| loss: 0.32387 | val_0_unsup_loss_numpy: 0.40661999583244324|  0:00:08s\n",
      "epoch 580| loss: 0.27024 | val_0_unsup_loss_numpy: 0.4259899854660034|  0:00:08s\n",
      "epoch 590| loss: 0.21789 | val_0_unsup_loss_numpy: 0.4112899899482727|  0:00:08s\n",
      "epoch 600| loss: 0.28344 | val_0_unsup_loss_numpy: 0.42353999614715576|  0:00:08s\n",
      "epoch 610| loss: 0.303   | val_0_unsup_loss_numpy: 0.41554000973701477|  0:00:08s\n",
      "epoch 620| loss: 0.30778 | val_0_unsup_loss_numpy: 0.4062199890613556|  0:00:08s\n",
      "epoch 630| loss: 0.29141 | val_0_unsup_loss_numpy: 0.39416998624801636|  0:00:08s\n",
      "epoch 640| loss: 0.31514 | val_0_unsup_loss_numpy: 0.41144001483917236|  0:00:09s\n",
      "epoch 650| loss: 0.25601 | val_0_unsup_loss_numpy: 0.40799999237060547|  0:00:09s\n",
      "epoch 660| loss: 0.31348 | val_0_unsup_loss_numpy: 0.4266499876976013|  0:00:09s\n",
      "epoch 670| loss: 0.25817 | val_0_unsup_loss_numpy: 0.43039000034332275|  0:00:09s\n",
      "epoch 680| loss: 0.27753 | val_0_unsup_loss_numpy: 0.42664000391960144|  0:00:09s\n",
      "epoch 690| loss: 0.30808 | val_0_unsup_loss_numpy: 0.41791999340057373|  0:00:09s\n",
      "epoch 700| loss: 0.29983 | val_0_unsup_loss_numpy: 0.4348500072956085|  0:00:09s\n",
      "epoch 710| loss: 0.2726  | val_0_unsup_loss_numpy: 0.4736799895763397|  0:00:09s\n",
      "epoch 720| loss: 0.35615 | val_0_unsup_loss_numpy: 0.4518299996852875|  0:00:09s\n",
      "epoch 730| loss: 0.23112 | val_0_unsup_loss_numpy: 0.4275299906730652|  0:00:10s\n",
      "epoch 740| loss: 0.25595 | val_0_unsup_loss_numpy: 0.442440003156662|  0:00:10s\n",
      "epoch 750| loss: 0.35992 | val_0_unsup_loss_numpy: 0.4357199966907501|  0:00:10s\n",
      "epoch 760| loss: 0.26016 | val_0_unsup_loss_numpy: 0.43296000361442566|  0:00:10s\n",
      "epoch 770| loss: 0.24014 | val_0_unsup_loss_numpy: 0.4354200065135956|  0:00:10s\n",
      "epoch 780| loss: 0.3061  | val_0_unsup_loss_numpy: 0.4322099983692169|  0:00:10s\n",
      "epoch 790| loss: 0.26791 | val_0_unsup_loss_numpy: 0.46599000692367554|  0:00:10s\n",
      "epoch 800| loss: 0.31101 | val_0_unsup_loss_numpy: 0.43713998794555664|  0:00:10s\n",
      "epoch 810| loss: 0.26315 | val_0_unsup_loss_numpy: 0.45197001099586487|  0:00:11s\n",
      "epoch 820| loss: 0.33559 | val_0_unsup_loss_numpy: 0.4144600033760071|  0:00:11s\n",
      "epoch 830| loss: 0.26026 | val_0_unsup_loss_numpy: 0.45115000009536743|  0:00:11s\n",
      "\n",
      "Early stopping occurred at epoch 830 with best_epoch = 630 and best_val_0_unsup_loss_numpy = 0.39416998624801636\n"
     ]
    },
    {
     "name": "stderr",
     "output_type": "stream",
     "text": [
      "/home/admin/.conda/envs/maicsh/lib/python3.9/site-packages/pytorch_tabnet/callbacks.py:172: UserWarning: Best weights from best epoch are automatically used!\n",
      "  warnings.warn(wrn_msg)\n"
     ]
    }
   ],
   "source": [
    "unsupervised_model.fit(\n",
    "    X_train=X_train,\n",
    "    eval_set=[X_valid],\n",
    "    max_epochs=max_epochs , patience=200,\n",
    "    batch_size=1024, virtual_batch_size=512,\n",
    "    num_workers=0,\n",
    "    drop_last=False,\n",
    "    pretraining_ratio=0.5,\n",
    ") "
   ]
  },
  {
   "cell_type": "code",
   "execution_count": 9,
   "metadata": {},
   "outputs": [],
   "source": [
    "# Make reconstruction from a dataset\n",
    "reconstructed_X, embedded_X = unsupervised_model.predict(X_valid)\n",
    "assert(reconstructed_X.shape==embedded_X.shape)"
   ]
  },
  {
   "cell_type": "code",
   "execution_count": 10,
   "metadata": {},
   "outputs": [],
   "source": [
    "unsupervised_explain_matrix, unsupervised_masks = unsupervised_model.explain(X_valid)"
   ]
  },
  {
   "cell_type": "code",
   "execution_count": 11,
   "metadata": {},
   "outputs": [],
   "source": [
    "# fig, axs = plt.subplots(1, 3, figsize=(20,20))\n",
    "\n",
    "# for i in range(3):\n",
    "#     axs[i].imshow(unsupervised_masks[i][:100])\n",
    "#     axs[i].set_title(f\"mask {i}\")"
   ]
  },
  {
   "cell_type": "code",
   "execution_count": 12,
   "metadata": {},
   "outputs": [
    {
     "name": "stderr",
     "output_type": "stream",
     "text": [
      "/home/admin/.conda/envs/maicsh/lib/python3.9/site-packages/pytorch_tabnet/abstract_model.py:82: UserWarning: Device used : cuda\n",
      "  warnings.warn(f\"Device used : {self.device}\")\n"
     ]
    },
    {
     "name": "stdout",
     "output_type": "stream",
     "text": [
      "Successfully saved model at ./test_pretrain.zip\n"
     ]
    }
   ],
   "source": [
    "unsupervised_model.save_model('./test_pretrain')\n",
    "loaded_pretrain = TabNetPretrainer()\n",
    "loaded_pretrain.load_model('./test_pretrain.zip')"
   ]
  },
  {
   "cell_type": "code",
   "execution_count": 13,
   "metadata": {},
   "outputs": [],
   "source": [
    "clf = TabNetClassifier(optimizer_fn=torch.optim.Adam,\n",
    "                       optimizer_params=dict(lr=2e-3),\n",
    "                       scheduler_params={\"step_size\":10, # how to use learning rate scheduler\n",
    "                                         \"gamma\":0.9},\n",
    "                       scheduler_fn=torch.optim.lr_scheduler.StepLR,\n",
    "                       mask_type='entmax', # This will be overwritten if using pretrain model\n",
    "                       verbose=5,\n",
    "                       cat_emb_dim=3,\n",
    "                       cat_idxs=category_indices,\n",
    "                       cat_dims=category_dims,\n",
    "                       grouped_features=[[9,10,11,12,13]], # you can group features together here\n",
    "                      )"
   ]
  },
  {
   "cell_type": "code",
   "execution_count": 14,
   "metadata": {},
   "outputs": [
    {
     "name": "stderr",
     "output_type": "stream",
     "text": [
      "/home/admin/.conda/envs/maicsh/lib/python3.9/site-packages/pytorch_tabnet/abstract_model.py:248: UserWarning: Loading weights from unsupervised pretraining\n",
      "  warnings.warn(\"Loading weights from unsupervised pretraining\")\n"
     ]
    },
    {
     "name": "stdout",
     "output_type": "stream",
     "text": [
      "epoch 0  | loss: 2.0278  | train_auc: 0.4801  | valid_auc: 0.77412 |  0:00:00s\n",
      "epoch 5  | loss: 2.00236 | train_auc: 0.48682 | valid_auc: 0.73904 |  0:00:00s\n",
      "epoch 10 | loss: 1.64318 | train_auc: 0.48173 | valid_auc: 0.74342 |  0:00:00s\n",
      "epoch 15 | loss: 1.2073  | train_auc: 0.48737 | valid_auc: 0.72588 |  0:00:00s\n",
      "epoch 20 | loss: 1.16648 | train_auc: 0.49464 | valid_auc: 0.72588 |  0:00:00s\n",
      "epoch 25 | loss: 1.00859 | train_auc: 0.49518 | valid_auc: 0.76535 |  0:00:00s\n",
      "epoch 30 | loss: 0.79082 | train_auc: 0.49518 | valid_auc: 0.79167 |  0:00:00s\n",
      "epoch 35 | loss: 0.80071 | train_auc: 0.50918 | valid_auc: 0.78289 |  0:00:00s\n",
      "epoch 40 | loss: 0.74421 | train_auc: 0.51336 | valid_auc: 0.75658 |  0:00:00s\n",
      "epoch 45 | loss: 0.6812  | train_auc: 0.53571 | valid_auc: 0.75219 |  0:00:00s\n",
      "epoch 50 | loss: 0.64581 | train_auc: 0.54807 | valid_auc: 0.76096 |  0:00:00s\n",
      "epoch 55 | loss: 0.64179 | train_auc: 0.56679 | valid_auc: 0.75658 |  0:00:00s\n",
      "epoch 60 | loss: 0.64942 | train_auc: 0.59969 | valid_auc: 0.76974 |  0:00:00s\n",
      "epoch 65 | loss: 0.62771 | train_auc: 0.61423 | valid_auc: 0.76974 |  0:00:01s\n",
      "epoch 70 | loss: 0.57958 | train_auc: 0.63495 | valid_auc: 0.6864  |  0:00:01s\n",
      "epoch 75 | loss: 0.62088 | train_auc: 0.64949 | valid_auc: 0.6864  |  0:00:01s\n",
      "epoch 80 | loss: 0.59558 | train_auc: 0.6444  | valid_auc: 0.69956 |  0:00:01s\n",
      "epoch 85 | loss: 0.58853 | train_auc: 0.65622 | valid_auc: 0.70833 |  0:00:01s\n",
      "epoch 90 | loss: 0.57946 | train_auc: 0.67203 | valid_auc: 0.70833 |  0:00:01s\n",
      "epoch 95 | loss: 0.55209 | train_auc: 0.68784 | valid_auc: 0.71272 |  0:00:01s\n",
      "epoch 100| loss: 0.56401 | train_auc: 0.71638 | valid_auc: 0.71272 |  0:00:01s\n",
      "epoch 105| loss: 0.61252 | train_auc: 0.71583 | valid_auc: 0.72149 |  0:00:01s\n",
      "epoch 110| loss: 0.57356 | train_auc: 0.72219 | valid_auc: 0.72149 |  0:00:01s\n",
      "epoch 115| loss: 0.53897 | train_auc: 0.74218 | valid_auc: 0.70833 |  0:00:01s\n",
      "epoch 120| loss: 0.61234 | train_auc: 0.73964 | valid_auc: 0.72149 |  0:00:01s\n",
      "epoch 125| loss: 0.55826 | train_auc: 0.74582 | valid_auc: 0.63377 |  0:00:01s\n",
      "epoch 130| loss: 0.55107 | train_auc: 0.74782 | valid_auc: 0.63816 |  0:00:02s\n",
      "epoch 135| loss: 0.53379 | train_auc: 0.75273 | valid_auc: 0.6557  |  0:00:02s\n",
      "epoch 140| loss: 0.6024  | train_auc: 0.77126 | valid_auc: 0.6557  |  0:00:02s\n",
      "epoch 145| loss: 0.55542 | train_auc: 0.7729  | valid_auc: 0.66009 |  0:00:02s\n",
      "epoch 150| loss: 0.5227  | train_auc: 0.77181 | valid_auc: 0.66009 |  0:00:02s\n",
      "epoch 155| loss: 0.53593 | train_auc: 0.77708 | valid_auc: 0.66009 |  0:00:02s\n",
      "epoch 160| loss: 0.52697 | train_auc: 0.7789  | valid_auc: 0.66009 |  0:00:02s\n",
      "epoch 165| loss: 0.59863 | train_auc: 0.77926 | valid_auc: 0.66009 |  0:00:02s\n",
      "epoch 170| loss: 0.5863  | train_auc: 0.78253 | valid_auc: 0.66447 |  0:00:02s\n",
      "epoch 175| loss: 0.50212 | train_auc: 0.78799 | valid_auc: 0.65132 |  0:00:02s\n",
      "epoch 180| loss: 0.52694 | train_auc: 0.78581 | valid_auc: 0.64693 |  0:00:02s\n",
      "epoch 185| loss: 0.49482 | train_auc: 0.78599 | valid_auc: 0.64693 |  0:00:02s\n",
      "epoch 190| loss: 0.50024 | train_auc: 0.78944 | valid_auc: 0.64254 |  0:00:02s\n",
      "epoch 195| loss: 0.50508 | train_auc: 0.7898  | valid_auc: 0.65132 |  0:00:03s\n",
      "epoch 200| loss: 0.5203  | train_auc: 0.79344 | valid_auc: 0.64693 |  0:00:03s\n",
      "epoch 205| loss: 0.53482 | train_auc: 0.79635 | valid_auc: 0.65132 |  0:00:03s\n",
      "epoch 210| loss: 0.52372 | train_auc: 0.80016 | valid_auc: 0.65132 |  0:00:03s\n",
      "epoch 215| loss: 0.50798 | train_auc: 0.8038  | valid_auc: 0.65132 |  0:00:03s\n",
      "epoch 220| loss: 0.55719 | train_auc: 0.80289 | valid_auc: 0.64254 |  0:00:03s\n",
      "epoch 225| loss: 0.49542 | train_auc: 0.80234 | valid_auc: 0.64693 |  0:00:03s\n",
      "epoch 230| loss: 0.52552 | train_auc: 0.80234 | valid_auc: 0.64254 |  0:00:03s\n",
      "\n",
      "Early stopping occurred at epoch 232 with best_epoch = 32 and best_valid_auc = 0.80482\n"
     ]
    },
    {
     "name": "stderr",
     "output_type": "stream",
     "text": [
      "/home/admin/.conda/envs/maicsh/lib/python3.9/site-packages/pytorch_tabnet/callbacks.py:172: UserWarning: Best weights from best epoch are automatically used!\n",
      "  warnings.warn(wrn_msg)\n"
     ]
    }
   ],
   "source": [
    "clf.fit(\n",
    "    X_train=X_train, y_train=y_train,\n",
    "    eval_set=[(X_train, y_train), (X_valid, y_valid)],\n",
    "    eval_name=['train', 'valid'],\n",
    "    eval_metric=['auc'],\n",
    "    max_epochs=max_epochs , patience=200,\n",
    "    batch_size=512, virtual_batch_size=128,\n",
    "    num_workers=0,\n",
    "    weights=1,\n",
    "    drop_last=False,\n",
    "    from_unsupervised=loaded_pretrain,\n",
    "    \n",
    ") "
   ]
  },
  {
   "cell_type": "code",
   "execution_count": 15,
   "metadata": {},
   "outputs": [
    {
     "data": {
      "text/plain": [
       "[<matplotlib.lines.Line2D at 0x7f1764031130>]"
      ]
     },
     "execution_count": 15,
     "metadata": {},
     "output_type": "execute_result"
    },
    {
     "data": {
      "image/png": "[encoded data removed]",
      "text/plain": [
       "<Figure size 640x480 with 1 Axes>"
      ]
     },
     "metadata": {},
     "output_type": "display_data"
    }
   ],
   "source": [
    "# plot losses\n",
    "plt.plot(clf.history['loss'])"
   ]
  },
  {
   "cell_type": "code",
   "execution_count": 16,
   "metadata": {},
   "outputs": [
    {
     "data": {
      "text/plain": [
       "[<matplotlib.lines.Line2D at 0x7f175b4b78e0>]"
      ]
     },
     "execution_count": 16,
     "metadata": {},
     "output_type": "execute_result"
    },
    {
     "data": {
      "image/png": "[encoded data removed]",
      "text/plain": [
       "<Figure size 640x480 with 1 Axes>"
      ]
     },
     "metadata": {},
     "output_type": "display_data"
    }
   ],
   "source": [
    "# plot auc\n",
    "plt.plot(clf.history['train_auc'])\n",
    "plt.plot(clf.history['valid_auc'])"
   ]
  },
  {
   "cell_type": "code",
   "execution_count": 17,
   "metadata": {},
   "outputs": [],
   "source": [
    "# # plot learning rates\n",
    "# plt.plot(clf.history['lr'])"
   ]
  },
  {
   "cell_type": "code",
   "execution_count": 21,
   "metadata": {},
   "outputs": [],
   "source": [
    "preds = clf.predict_proba(X_test)"
   ]
  },
  {
   "cell_type": "code",
   "execution_count": 22,
   "metadata": {},
   "outputs": [
    {
     "data": {
      "text/plain": [
       "array([0.2096892 , 0.20822164, 0.757488  , 0.64182264, 0.21088447,\n",
       "       0.9357489 , 0.24671084, 0.24671084, 0.8065246 , 0.2603445 ,\n",
       "       0.2602496 , 0.7977201 , 0.2434539 , 0.24293181, 0.8298142 ,\n",
       "       0.29327103, 0.94953156, 0.29405203, 0.9450084 , 0.28200865,\n",
       "       0.9466776 , 0.6962441 , 0.19204365, 0.70157516, 0.24330144,\n",
       "       0.8043105 , 0.21324553, 0.6485599 ], dtype=float32)"
      ]
     },
     "execution_count": 22,
     "metadata": {},
     "output_type": "execute_result"
    }
   ],
   "source": [
    "preds[:,1]"
   ]
  },
  {
   "cell_type": "code",
   "execution_count": 20,
   "metadata": {},
   "outputs": [
    {
     "ename": "NameError",
     "evalue": "name 'array' is not defined",
     "output_type": "error",
     "traceback": [
      "\u001b[0;31m---------------------------------------------------------------------------\u001b[0m",
      "\u001b[0;31mNameError\u001b[0m                                 Traceback (most recent call last)",
      "Cell \u001b[0;32mIn[20], line 1\u001b[0m\n\u001b[0;32m----> 1\u001b[0m \u001b[43marray\u001b[49m([\u001b[38;5;241m0.3023238\u001b[39m , \u001b[38;5;241m0.29481164\u001b[39m, \u001b[38;5;241m0.6596544\u001b[39m , \u001b[38;5;241m0.16191597\u001b[39m, \u001b[38;5;241m0.58054733\u001b[39m,\n\u001b[1;32m      2\u001b[0m        \u001b[38;5;241m0.07751235\u001b[39m, \u001b[38;5;241m0.34905267\u001b[39m, \u001b[38;5;241m0.34905267\u001b[39m, \u001b[38;5;241m0.04242295\u001b[39m, \u001b[38;5;241m0.2618657\u001b[39m ,\n\u001b[1;32m      3\u001b[0m        \u001b[38;5;241m0.37848458\u001b[39m, \u001b[38;5;241m0.60709375\u001b[39m, \u001b[38;5;241m0.37731048\u001b[39m, \u001b[38;5;241m0.3571103\u001b[39m , \u001b[38;5;241m0.07617825\u001b[39m,\n\u001b[1;32m      4\u001b[0m        \u001b[38;5;241m0.3671346\u001b[39m , \u001b[38;5;241m0.51688576\u001b[39m, \u001b[38;5;241m0.36374867\u001b[39m, \u001b[38;5;241m0.21771677\u001b[39m, \u001b[38;5;241m0.4385563\u001b[39m ,\n\u001b[1;32m      5\u001b[0m        \u001b[38;5;241m0.07817154\u001b[39m, \u001b[38;5;241m0.05496081\u001b[39m, \u001b[38;5;241m0.31844085\u001b[39m, \u001b[38;5;241m0.00509955\u001b[39m, \u001b[38;5;241m0.3742678\u001b[39m ,\n\u001b[1;32m      6\u001b[0m        \u001b[38;5;241m0.79135275\u001b[39m, \u001b[38;5;241m0.8720417\u001b[39m , \u001b[38;5;241m0.36126837\u001b[39m], dtype\u001b[38;5;241m=\u001b[39mfloat32)\n",
      "\u001b[0;31mNameError\u001b[0m: name 'array' is not defined"
     ]
    }
   ],
   "source": [
    "array([0.3023238 , 0.29481164, 0.6596544 , 0.16191597, 0.58054733,\n",
    "       0.07751235, 0.34905267, 0.34905267, 0.04242295, 0.2618657 ,\n",
    "       0.37848458, 0.60709375, 0.37731048, 0.3571103 , 0.07617825,\n",
    "       0.3671346 , 0.51688576, 0.36374867, 0.21771677, 0.4385563 ,\n",
    "       0.07817154, 0.05496081, 0.31844085, 0.00509955, 0.3742678 ,\n",
    "       0.79135275, 0.8720417 , 0.36126837], dtype=float32)"
   ]
  }
 ],
 "metadata": {
  "kernelspec": {
   "display_name": "maicsh",
   "language": "python",
   "name": "python3"
  },
  "language_info": {
   "codemirror_mode": {
    "name": "ipython",
    "version": 3
   },
   "file_extension": ".py",
   "mimetype": "text/x-python",
   "name": "python",
   "nbconvert_exporter": "python",
   "pygments_lexer": "ipython3",
   "version": "3.9.18"
  }
 },
 "nbformat": 4,
 "nbformat_minor": 2
}
