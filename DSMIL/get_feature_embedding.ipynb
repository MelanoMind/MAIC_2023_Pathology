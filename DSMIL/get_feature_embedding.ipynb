{
 "cells": [
  {
   "cell_type": "code",
   "execution_count": 10,
   "id": "83f64958-0016-4c5c-b0a7-f66feee6ce78",
   "metadata": {
    "tags": []
   },
   "outputs": [],
   "source": [
    "import os\n",
    "import timm\n",
    "import cv2\n",
    "import random\n",
    "import numpy as np\n",
    "import pandas as pd\n",
    "import torch\n",
    "import torch.nn as nn\n",
    "import torch.nn.functional as F\n",
    "from torchvision import transforms\n",
    "from torch.utils.data import Dataset, DataLoader\n",
    "from torch.optim.lr_scheduler import _LRScheduler\n",
    "from torchvision.transforms.functional import to_pil_image"
   ]
  },
  {
   "cell_type": "code",
   "execution_count": 11,
   "id": "13f84aa9-dc38-40bd-9cc1-f011eb16b782",
   "metadata": {
    "tags": []
   },
   "outputs": [],
   "source": [
    "# def seed_everything(random_seed: int):\n",
    "#     torch.manual_seed(random_seed)\n",
    "#     torch.cuda.manual_seed(random_seed)\n",
    "#     torch.cuda.manual_seed_all(random_seed) # if use multi-GPU\n",
    "#     torch.backends.cudnn.deterministic = True\n",
    "#     torch.backends.cudnn.benchmark = False\n",
    "#     np.random.seed(random_seed)\n",
    "#     random.seed(random_seed)\n",
    "#     os.environ['PYTHONHASHSEED'] = str(random_seed)\n",
    "#     print('seed setting complete')"
   ]
  },
  {
   "cell_type": "code",
   "execution_count": 12,
   "id": "8022bf2b-ea98-4a81-a908-887e3fbfe318",
   "metadata": {
    "tags": []
   },
   "outputs": [
    {
     "name": "stdout",
     "output_type": "stream",
     "text": [
      "seed setting complete\n"
     ]
    }
   ],
   "source": [
    "##### HYPER PARAMETER\n",
    "\n",
    "SEED = 42\n",
    "PATCH_SIZE = (512, 512) # width, height\n",
    "OVERLAP_RATIO = 0.1 #0.5\n",
    "TISSUE_AREA_RATIO = 0.5\n",
    "DROP_RATE = 0.5\n",
    "EPOCH = 10\n",
    "LEARNING_RATE = 3e-5\n",
    "WEIGHT_DECAY = 1e-5\n",
    "\n",
    "TRAIN_BATCH_SIZE = 64 #64\n",
    "EVAL_BATCH_SIZE = 64 #256\n",
    "TOPK = 5 # MIL top K\n",
    "\n",
    "GPU_IDX = 'cuda'\n",
    "DATE = '240102'\n",
    "\n",
    "EXP_NAME = f'MAIC_{DATE}_{LEARNING_RATE}'\n",
    "seed_everything(SEED)"
   ]
  },
  {
   "cell_type": "code",
   "execution_count": 31,
   "id": "249b63df-8b1f-4371-8aab-408b26ca4f1c",
   "metadata": {
    "tags": []
   },
   "outputs": [],
   "source": [
    "model = timm.create_model('resnet18', pretrained=True, num_classes=2, drop_rate=DROP_RATE)"
   ]
  },
  {
   "cell_type": "code",
   "execution_count": null,
   "id": "98e7b874-fd74-45d2-aaa5-67b2bee4319a",
   "metadata": {
    "tags": []
   },
   "outputs": [],
   "source": [
    "for name, param in model.named_parameters():\n",
    "    print(f'Layer: {name}, Shape: {param.shape}')"
   ]
  },
  {
   "cell_type": "code",
   "execution_count": 34,
   "id": "aeea4a6a-0ba9-45c4-aab4-57cd31d8999c",
   "metadata": {
    "tags": []
   },
   "outputs": [],
   "source": [
    "res18_module = list(model.children())[:-1]\n",
    "res18_model = nn.Sequential(*res18_module)"
   ]
  },
  {
   "cell_type": "code",
   "execution_count": 54,
   "id": "f0ca6d9f-1f73-41d2-a3c2-3ac3000f0078",
   "metadata": {
    "tags": []
   },
   "outputs": [],
   "source": [
    "input_image = torch.randn(3, 3, 224, 224)\n",
    "with torch.no_grad():\n",
    "    res18_model.eval()\n",
    "    output_feature = res18_model(input_image)"
   ]
  },
  {
   "cell_type": "code",
   "execution_count": 55,
   "id": "f6f476dd-b536-4a89-8980-6b80926ae022",
   "metadata": {
    "tags": []
   },
   "outputs": [
    {
     "data": {
      "text/plain": [
       "torch.Size([3, 512])"
      ]
     },
     "execution_count": 55,
     "metadata": {},
     "output_type": "execute_result"
    }
   ],
   "source": [
    "output_feature.size()"
   ]
  },
  {
   "cell_type": "code",
   "execution_count": 47,
   "id": "0e326f89-44b7-4165-b3e5-2a49384697d8",
   "metadata": {
    "tags": []
   },
   "outputs": [
    {
     "data": {
      "text/plain": [
       "Flatten(start_dim=1, end_dim=-1)"
      ]
     },
     "execution_count": 47,
     "metadata": {},
     "output_type": "execute_result"
    }
   ],
   "source": [
    "list(res18_model.modules())[-1]"
   ]
  },
  {
   "cell_type": "code",
   "execution_count": 52,
   "id": "cd6ef85b-4112-429d-9d32-f8582252594d",
   "metadata": {
    "tags": []
   },
   "outputs": [],
   "source": [
    "def load_dataset_from_pickle(file_name):\n",
    "    \"\"\"\n",
    "    .pkl 파일로부터 데이터셋을 로드합니다.\n",
    "    \n",
    "    :param file_name: 로드할 .pkl 파일의 이름\n",
    "    :return: 파일에서 로드된 데이터셋\n",
    "    \"\"\"\n",
    "    with open(file_name, 'rb') as file:\n",
    "        dataset = pickle.load(file)\n",
    "    return dataset"
   ]
  },
  {
   "cell_type": "code",
   "execution_count": 53,
   "id": "9742cd5f-265e-4cbf-ad1c-36f476f9039c",
   "metadata": {
    "tags": []
   },
   "outputs": [
    {
     "ename": "AttributeError",
     "evalue": "Can't get attribute 'MILDataset' on <module '__main__'>",
     "output_type": "error",
     "traceback": [
      "\u001b[0;31m---------------------------------------------------------------------------\u001b[0m",
      "\u001b[0;31mAttributeError\u001b[0m                            Traceback (most recent call last)",
      "File \u001b[0;32m<timed exec>:3\u001b[0m\n",
      "Cell \u001b[0;32mIn[52], line 9\u001b[0m, in \u001b[0;36mload_dataset_from_pickle\u001b[0;34m(file_name)\u001b[0m\n\u001b[1;32m      2\u001b[0m \u001b[38;5;250m\u001b[39m\u001b[38;5;124;03m\"\"\"\u001b[39;00m\n\u001b[1;32m      3\u001b[0m \u001b[38;5;124;03m.pkl 파일로부터 데이터셋을 로드합니다.\u001b[39;00m\n\u001b[1;32m      4\u001b[0m \u001b[38;5;124;03m\u001b[39;00m\n\u001b[1;32m      5\u001b[0m \u001b[38;5;124;03m:param file_name: 로드할 .pkl 파일의 이름\u001b[39;00m\n\u001b[1;32m      6\u001b[0m \u001b[38;5;124;03m:return: 파일에서 로드된 데이터셋\u001b[39;00m\n\u001b[1;32m      7\u001b[0m \u001b[38;5;124;03m\"\"\"\u001b[39;00m\n\u001b[1;32m      8\u001b[0m \u001b[38;5;28;01mwith\u001b[39;00m \u001b[38;5;28mopen\u001b[39m(file_name, \u001b[38;5;124m'\u001b[39m\u001b[38;5;124mrb\u001b[39m\u001b[38;5;124m'\u001b[39m) \u001b[38;5;28;01mas\u001b[39;00m file:\n\u001b[0;32m----> 9\u001b[0m     dataset \u001b[38;5;241m=\u001b[39m \u001b[43mpickle\u001b[49m\u001b[38;5;241;43m.\u001b[39;49m\u001b[43mload\u001b[49m\u001b[43m(\u001b[49m\u001b[43mfile\u001b[49m\u001b[43m)\u001b[49m\n\u001b[1;32m     10\u001b[0m \u001b[38;5;28;01mreturn\u001b[39;00m dataset\n",
      "\u001b[0;31mAttributeError\u001b[0m: Can't get attribute 'MILDataset' on <module '__main__'>"
     ]
    }
   ],
   "source": [
    "%%time\n",
    "import pickle\n",
    "\n",
    "train_data = load_dataset_from_pickle('../image_pickle/dataset_train_001.pkl')"
   ]
  },
  {
   "cell_type": "code",
   "execution_count": null,
   "id": "8c25404a-3142-41ac-99c3-efc959400ede",
   "metadata": {},
   "outputs": [],
   "source": [
    "import pickle\n",
    "\n",
    "train_data = load_dataset_from_pickle('../pickle/train_dataset.pkl')\n",
    "train_train_dataloader = DataLoader(train_data, batch_size=TRAIN_BATCH_SIZE, shuffle=False, num_workers=0)\n",
    "\n",
    "\n",
    "model = res18_model\n",
    "with torch.no_grad() :\n",
    "    model.eval()\n",
    "    for batch_idx, (data, label) in enumerate(tqdm(train_train_dataloader)):\n",
    "        data = data.to(GPU_IDX)\n",
    "        feature_embedding = model(data)\n",
    "        label = label.numpy()"
   ]
  }
 ],
 "metadata": {
  "kernelspec": {
   "display_name": "Python [conda env:torch-maic2023]",
   "language": "python",
   "name": "conda-env-torch-maic2023-py"
  },
  "language_info": {
   "codemirror_mode": {
    "name": "ipython",
    "version": 3
   },
   "file_extension": ".py",
   "mimetype": "text/x-python",
   "name": "python",
   "nbconvert_exporter": "python",
   "pygments_lexer": "ipython3",
   "version": "3.9.18"
  }
 },
 "nbformat": 4,
 "nbformat_minor": 5
}
