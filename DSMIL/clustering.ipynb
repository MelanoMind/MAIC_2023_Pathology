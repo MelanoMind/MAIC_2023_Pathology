{
 "cells": [
  {
   "cell_type": "code",
   "execution_count": 1,
   "id": "910ab378-a548-4d39-a880-3d5ac3219e2a",
   "metadata": {
    "tags": []
   },
   "outputs": [],
   "source": [
    "from sklearn.cluster import KMeans\n",
    "import numpy as np\n",
    "import pandas as pd\n",
    "import matplotlib\n",
    "import matplotlib.pyplot as plt\n",
    "import torch\n",
    "import torch.nn as nn\n",
    "import torch.nn.functional as F\n",
    "from torchvision import transforms\n",
    "from torch.utils.data import Dataset, DataLoader\n",
    "from tqdm.auto import tqdm"
   ]
  },
  {
   "cell_type": "code",
   "execution_count": 9,
   "id": "0aeebd18-1688-4c9a-811c-479251da1849",
   "metadata": {
    "tags": []
   },
   "outputs": [],
   "source": [
    "from Dataset import load_dataset_from_pickle, MILDataset\n",
    "import utils\n",
    "from backbone import BackboneResNet"
   ]
  },
  {
   "cell_type": "code",
   "execution_count": 3,
   "id": "2b8bd590-2bf1-45e1-b175-9ab763ac052a",
   "metadata": {
    "tags": []
   },
   "outputs": [],
   "source": [
    "pkl_path='../re_pickle_train_patch'\n",
    "EPOCH=10\n",
    "device = 'cuda' if torch.cuda.is_available() else 'cpu'\n",
    "TRAIN_CSV_PATH = '../total_split_train_val/fold_4_train.csv'\n",
    "VALID_CSV_PATH = '../total_split_train_val/fold_4_val.csv'"
   ]
  },
  {
   "cell_type": "code",
   "execution_count": 4,
   "id": "45eea9a4-d36c-4f07-9b21-6d1393ec3235",
   "metadata": {
    "tags": []
   },
   "outputs": [],
   "source": [
    "slide_name = utils.get_slides_name(TRAIN_CSV_PATH)"
   ]
  },
  {
   "cell_type": "code",
   "execution_count": 5,
   "id": "ee29f2e7-846f-411f-b352-58d89d38b8ab",
   "metadata": {
    "tags": []
   },
   "outputs": [],
   "source": [
    "pkl_path = utils.get_image_path(image_path='../re_pickle_train_patch',slide_name_list=slide_name)"
   ]
  },
  {
   "cell_type": "code",
   "execution_count": 6,
   "id": "464007b2-170a-4f8e-bc95-8dbc45dac0a7",
   "metadata": {
    "tags": []
   },
   "outputs": [],
   "source": [
    "BATCH_SIZE=700"
   ]
  },
  {
   "cell_type": "code",
   "execution_count": 10,
   "id": "6d1de83c-cdfc-486c-90db-a3c95f6df16b",
   "metadata": {
    "tags": []
   },
   "outputs": [
    {
     "name": "stdout",
     "output_type": "stream",
     "text": [
      "Feature extractor: resnet18\n"
     ]
    }
   ],
   "source": [
    "feature_extractor = BackboneResNet('resnet18')"
   ]
  },
  {
   "cell_type": "code",
   "execution_count": 50,
   "id": "5c96e340-c155-438c-ab9d-e21846f3eef9",
   "metadata": {
    "tags": []
   },
   "outputs": [],
   "source": [
    "num_cluster = 11"
   ]
  },
  {
   "cell_type": "code",
   "execution_count": 84,
   "id": "4b839fdf-fff0-4204-804b-95e506218b4e",
   "metadata": {
    "tags": []
   },
   "outputs": [],
   "source": [
    "def visualize_images(features, patches, labels, num_patches, num_cluster, image_size=(1.5, 1.5)) :\n",
    "    num_cluster_per_patches = {}\n",
    "    rows = 1\n",
    "    cols = min(num_patches, 6)\n",
    "    for cluster_index in range(num_cluster) :\n",
    "        cluster_indices = np.where(labels==cluster_index)[0]\n",
    "        # print(cluster_indices)\n",
    "        random_indices = np.random.choice(cluster_indices, num_patches, replace=False)\n",
    "        num_cluster_patches = len(cluster_indices)\n",
    "        num_cluster_per_patches[cluster_index] = num_cluster_patches\n",
    "        \n",
    "        fig, axes = plt.subplots(rows, cols, figsize=(image_size[1] * cols, image_size[0] * rows))\n",
    "        for i, index in enumerate(random_indices) :\n",
    "            ax = axes[i]\n",
    "            ax.imshow(patches[index].transpose(1, 2, 0))\n",
    "            ax.set_title(f'label {cluster_index}, Image {index}')\n",
    "            ax.axis('off')\n",
    "        plt.tight_layout()\n",
    "        plt.show()\n",
    "    print(num_cluster_per_patches)\n",
    "          "
   ]
  },
  {
   "cell_type": "code",
   "execution_count": null,
   "id": "d8798e84-731e-4196-ad07-fcb34eda635b",
   "metadata": {
    "tags": []
   },
   "outputs": [],
   "source": [
    "for train_wsi_path in pkl_path:\n",
    "    print(train_wsi_path)\n",
    "    train_wsi = load_dataset_from_pickle(train_wsi_path)\n",
    "    train_wsi_data_loader = DataLoader(train_wsi, batch_size=BATCH_SIZE, shuffle=True, drop_last=False)\n",
    "    with torch.no_grad() :\n",
    "        for batch_index, (wsi_patch, wsi_label) in enumerate(train_wsi_data_loader) :\n",
    "            batch_size = wsi_patch.size(0)\n",
    "            if (batch_index > 0) & (batch_size < 200) :\n",
    "                break    \n",
    "            features = feature_extractor(wsi_patch)\n",
    "            wsi_patch_np = wsi_patch.numpy()\n",
    "            cluster = KMeans(n_clusters=num_cluster, n_init=15)\n",
    "            cluster.fit(features)\n",
    "\n",
    "            # print(cluster)\n",
    "            result_cluster = features.detach().numpy().copy()\n",
    "            # result_cluster['cluster'] = \n",
    "            visualize_images(features=result_cluster, patches=wsi_patch_np, labels=cluster.labels_, num_patches=6, num_cluster=num_cluster)\n",
    "        \n",
    "    break"
   ]
  },
  {
   "cell_type": "code",
   "execution_count": 87,
   "id": "10af6bce-20af-4c6d-b864-c5df132191a7",
   "metadata": {},
   "outputs": [
    {
     "name": "stdout",
     "output_type": "stream",
     "text": [
      "Mon Jan 22 12:05:27 2024       \n",
      "+-----------------------------------------------------------------------------+\n",
      "| NVIDIA-SMI 515.65.01    Driver Version: 515.65.01    CUDA Version: 11.7     |\n",
      "|-------------------------------+----------------------+----------------------+\n",
      "| GPU  Name        Persistence-M| Bus-Id        Disp.A | Volatile Uncorr. ECC |\n",
      "| Fan  Temp  Perf  Pwr:Usage/Cap|         Memory-Usage | GPU-Util  Compute M. |\n",
      "|                               |                      |               MIG M. |\n",
      "|===============================+======================+======================|\n",
      "|   0  NVIDIA RTX A6000    On   | 00000000:48:00.0 Off |                  Off |\n",
      "| 30%   36C    P8    29W / 300W |      3MiB / 49140MiB |      0%      Default |\n",
      "|                               |                      |                  N/A |\n",
      "+-------------------------------+----------------------+----------------------+\n",
      "                                                                               \n",
      "+-----------------------------------------------------------------------------+\n",
      "| Processes:                                                                  |\n",
      "|  GPU   GI   CI        PID   Type   Process name                  GPU Memory |\n",
      "|        ID   ID                                                   Usage      |\n",
      "|=============================================================================|\n",
      "|  No running processes found                                                 |\n",
      "+-----------------------------------------------------------------------------+\n"
     ]
    }
   ],
   "source": [
    "!nvidia-smi"
   ]
  },
  {
   "cell_type": "code",
   "execution_count": null,
   "id": "d0ce47dd-5f21-48ca-a8cb-66ae590025dc",
   "metadata": {},
   "outputs": [],
   "source": []
  }
 ],
 "metadata": {
  "kernelspec": {
   "display_name": "Python [conda env:torch-maic2023]",
   "language": "python",
   "name": "conda-env-torch-maic2023-py"
  },
  "language_info": {
   "codemirror_mode": {
    "name": "ipython",
    "version": 3
   },
   "file_extension": ".py",
   "mimetype": "text/x-python",
   "name": "python",
   "nbconvert_exporter": "python",
   "pygments_lexer": "ipython3",
   "version": "3.9.18"
  }
 },
 "nbformat": 4,
 "nbformat_minor": 5
}
