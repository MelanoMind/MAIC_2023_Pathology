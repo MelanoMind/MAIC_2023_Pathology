{
 "cells": [
  {
   "cell_type": "code",
   "execution_count": 2,
   "id": "53f2a0db-5e0c-49f0-946c-d2bcb2872dff",
   "metadata": {},
   "outputs": [],
   "source": [
    "import os\n",
    "import gc\n",
    "from glob import glob\n",
    "import warnings\n",
    "import random\n",
    "import easydict\n",
    "import copy\n",
    "from collections import defaultdict\n",
    "import math\n",
    "import numpy as np\n",
    "import pandas as pd\n",
    "import matplotlib\n",
    "import matplotlib.pyplot as plt\n",
    "from matplotlib import font_manager, rc\n",
    "import itertools\n",
    "import torch\n",
    "import torch.nn as nn\n",
    "import torch.nn.functional as F\n",
    "from torchvision import transforms\n",
    "from torch.utils.data import Dataset, DataLoader\n",
    "from torch.optim.lr_scheduler import _LRScheduler\n",
    "from torchvision.transforms.functional import to_pil_image\n",
    "import albumentations as A\n",
    "from albumentations.pytorch.transforms import ToTensorV2\n",
    "import timm\n",
    "from tqdm.auto import tqdm\n",
    "import torchstain"
   ]
  },
  {
   "cell_type": "code",
   "execution_count": 3,
   "id": "1e1b8ff0-9af2-44a7-bd5c-cfa31ee3df3b",
   "metadata": {
    "tags": []
   },
   "outputs": [],
   "source": [
    "def seed_everything(random_seed: int):\n",
    "    torch.manual_seed(random_seed)\n",
    "    torch.cuda.manual_seed(random_seed)\n",
    "    torch.cuda.manual_seed_all(random_seed) # if use multi-GPU\n",
    "    torch.backends.cudnn.deterministic = True\n",
    "    torch.backends.cudnn.benchmark = False\n",
    "    np.random.seed(random_seed)\n",
    "    random.seed(random_seed)\n",
    "    os.environ['PYTHONHASHSEED'] = str(random_seed)\n",
    "    print('seed setting complete')"
   ]
  },
  {
   "cell_type": "code",
   "execution_count": 4,
   "id": "bd424ed8-b7a3-4c1a-a23a-04d6e00aea9a",
   "metadata": {},
   "outputs": [],
   "source": [
    "import pickle\n",
    "\n",
    "def load_dataset_from_pickle(file_name):\n",
    "    \"\"\"\n",
    "    .pkl 파일로부터 데이터셋을 로드합니다.\n",
    "    \n",
    "    :param file_name: 로드할 .pkl 파일의 이름\n",
    "    :return: 파일에서 로드된 데이터셋\n",
    "    \"\"\"\n",
    "    with open(file_name, 'rb') as file:\n",
    "        dataset = pickle.load(file)\n",
    "    return dataset"
   ]
  },
  {
   "cell_type": "code",
   "execution_count": 5,
   "id": "efc297d2-847c-4ec9-9e70-b88ec58bb61a",
   "metadata": {
    "tags": []
   },
   "outputs": [],
   "source": [
    "class MILDataset(Dataset): # 참고 https://github.com/MSKCC-Computational-Pathology/MIL-nature-medicine-2019/blob/master/MIL_train.py    \n",
    "    def set_mode(self, mode):\n",
    "        self.mode = mode\n",
    "\n",
    "    def __getitem__(self, idx):\n",
    "        slide_idx = self.slide_idx[idx]\n",
    "        img = self.patch_list[idx]\n",
    "        \n",
    "        transform = A.Compose([\n",
    "            A.Resize(224, 224),\n",
    "            A.Rotate(),\n",
    "            A.HorizontalFlip(),\n",
    "            A.VerticalFlip(),\n",
    "            # A.ColorJitter(),\n",
    "            # A.CLAHE(clip_limit=1.0, tile_grid_size=(8,8)),\n",
    "            A.CLAHE(p=0.3),\n",
    "            A.Normalize(mean=[0.485, 0.456, 0.406], std=[0.229, 0.224, 0.225]),\n",
    "            ToTensorV2()\n",
    "        ])\n",
    "        # Apply the transformations\n",
    "        img = transform(image=img)[\"image\"]\n",
    "        \n",
    "        label = self.label_list[slide_idx]\n",
    "        return img, label\n",
    "        \n",
    "    \n",
    "    def __len__(self):\n",
    "        return len(self.patch_list)"
   ]
  },
  {
   "cell_type": "code",
   "execution_count": 6,
   "id": "1ea289d6-8637-44ad-98fa-333ad52451b0",
   "metadata": {
    "tags": []
   },
   "outputs": [],
   "source": [
    "# class MILDataset(Dataset): # 참고 https://github.com/MSKCC-Computational-Pathology/MIL-nature-medicine-2019/blob/master/MIL_train.py    \n",
    "#     def set_mode(self, mode):\n",
    "#         self.mode = mode\n",
    "\n",
    "#     def __getitem__(self, idx):\n",
    "#         slide_idx = self.slide_idx[idx]\n",
    "#         img = self.patch_list[idx]\n",
    "        \n",
    "#         transform = A.Compose([\n",
    "#             A.Resize(224, 224),\n",
    "#             A.Rotate(),\n",
    "#             A.HorizontalFlip(),\n",
    "#             A.VerticalFlip(),\n",
    "#             # A.ColorJitter(),\n",
    "#             # A.CLAHE(clip_limit=1.0, tile_grid_size=(8,8)),\n",
    "#             A.CLAHE(p=0.3),\n",
    "#             # A.Normalize(mean=[0.485, 0.456, 0.406], std=[0.229, 0.224, 0.225]),\n",
    "#             ToTensorV2()\n",
    "#         ])\n",
    "#         # Apply the transformations\n",
    "#         img = transform(image=img)[\"image\"]\n",
    "#         stain_normalizer = torchstain.normalizers.MacenkoNormalizer(backend='torch')\n",
    "#         stain_normalizer.fit(img)\n",
    "#         normed_img = stain_normalizer.normalize(I=img, stains=False)\n",
    "#         normed_img = normed_img[0]/255.0\n",
    "        \n",
    "#         label = self.label_list[slide_idx]\n",
    "#         return normed_img, label\n",
    "        \n",
    "    \n",
    "#     def __len__(self):\n",
    "#         return len(self.patch_list)\n",
    "    "
   ]
  },
  {
   "cell_type": "code",
   "execution_count": 10,
   "id": "94c49bdc-0398-48bd-9989-afeccbf98a02",
   "metadata": {
    "tags": []
   },
   "outputs": [
    {
     "data": {
      "text/plain": [
       "30"
      ]
     },
     "execution_count": 10,
     "metadata": {},
     "output_type": "execute_result"
    }
   ],
   "source": [
    "#train_df = pd.read_csv('../total_split_train_val/fold_4_train.csv')\n",
    "train_df = pd.read_csv('../dataset/train_dataset.csv')\n",
    "train_pkl_list = train_df['Slide_name'].tolist()\n",
    "len(train_pkl_list)"
   ]
  },
  {
   "cell_type": "code",
   "execution_count": 12,
   "id": "8130db9c-05ff-4864-b4d4-92aaca51c5f6",
   "metadata": {},
   "outputs": [
    {
     "data": {
      "text/plain": [
       "'resize_normal_001'"
      ]
     },
     "execution_count": 12,
     "metadata": {},
     "output_type": "execute_result"
    }
   ],
   "source": [
    "train_pkl_list[0]"
   ]
  },
  {
   "cell_type": "code",
   "execution_count": 11,
   "id": "62b7656c-ccdf-4a6b-8738-285c77faf743",
   "metadata": {
    "tags": []
   },
   "outputs": [
    {
     "ename": "ValueError",
     "evalue": "invalid literal for int() with base 10: 'normal'",
     "output_type": "error",
     "traceback": [
      "\u001b[0;31m---------------------------------------------------------------------------\u001b[0m",
      "\u001b[0;31mValueError\u001b[0m                                Traceback (most recent call last)",
      "Cell \u001b[0;32mIn[11], line 1\u001b[0m\n\u001b[0;32m----> 1\u001b[0m \u001b[38;5;28;43mint\u001b[39;49m\u001b[43m(\u001b[49m\u001b[43mtrain_pkl_list\u001b[49m\u001b[43m[\u001b[49m\u001b[38;5;241;43m0\u001b[39;49m\u001b[43m]\u001b[49m\u001b[38;5;241;43m.\u001b[39;49m\u001b[43msplit\u001b[49m\u001b[43m(\u001b[49m\u001b[38;5;124;43m'\u001b[39;49m\u001b[38;5;124;43m_\u001b[39;49m\u001b[38;5;124;43m'\u001b[39;49m\u001b[43m)\u001b[49m\u001b[43m[\u001b[49m\u001b[38;5;241;43m1\u001b[39;49m\u001b[43m]\u001b[49m\u001b[43m)\u001b[49m\n",
      "\u001b[0;31mValueError\u001b[0m: invalid literal for int() with base 10: 'normal'"
     ]
    }
   ],
   "source": [
    "int(train_pkl_list[0].split('_')[1])"
   ]
  },
  {
   "cell_type": "code",
   "execution_count": 31,
   "id": "2c2e8ae5-16d4-4bae-9d8b-822d228e7f93",
   "metadata": {
    "tags": []
   },
   "outputs": [
    {
     "ename": "TypeError",
     "evalue": "unhashable type: 'list'",
     "output_type": "error",
     "traceback": [
      "\u001b[0;31m---------------------------------------------------------------------------\u001b[0m",
      "\u001b[0;31mTypeError\u001b[0m                                 Traceback (most recent call last)",
      "Cell \u001b[0;32mIn[31], line 1\u001b[0m\n\u001b[0;32m----> 1\u001b[0m train_wsi \u001b[38;5;241m=\u001b[39m \u001b[43mload_dataset_from_pickle\u001b[49m\u001b[43m(\u001b[49m\u001b[43mtrain_pkl_list\u001b[49m\u001b[43m)\u001b[49m\n",
      "Cell \u001b[0;32mIn[26], line 10\u001b[0m, in \u001b[0;36mload_dataset_from_pickle\u001b[0;34m(file_name)\u001b[0m\n\u001b[1;32m      3\u001b[0m \u001b[38;5;28;01mdef\u001b[39;00m \u001b[38;5;21mload_dataset_from_pickle\u001b[39m(file_name):\n\u001b[1;32m      4\u001b[0m \u001b[38;5;250m    \u001b[39m\u001b[38;5;124;03m\"\"\"\u001b[39;00m\n\u001b[1;32m      5\u001b[0m \u001b[38;5;124;03m    .pkl 파일로부터 데이터셋을 로드합니다.\u001b[39;00m\n\u001b[1;32m      6\u001b[0m \u001b[38;5;124;03m    \u001b[39;00m\n\u001b[1;32m      7\u001b[0m \u001b[38;5;124;03m    :param file_name: 로드할 .pkl 파일의 이름\u001b[39;00m\n\u001b[1;32m      8\u001b[0m \u001b[38;5;124;03m    :return: 파일에서 로드된 데이터셋\u001b[39;00m\n\u001b[1;32m      9\u001b[0m \u001b[38;5;124;03m    \"\"\"\u001b[39;00m\n\u001b[0;32m---> 10\u001b[0m     \u001b[38;5;28;01mwith\u001b[39;00m \u001b[38;5;28;43mopen\u001b[39;49m\u001b[43m(\u001b[49m\u001b[43mfile_name\u001b[49m\u001b[43m,\u001b[49m\u001b[43m \u001b[49m\u001b[38;5;124;43m'\u001b[39;49m\u001b[38;5;124;43mrb\u001b[39;49m\u001b[38;5;124;43m'\u001b[39;49m\u001b[43m)\u001b[49m \u001b[38;5;28;01mas\u001b[39;00m file:\n\u001b[1;32m     11\u001b[0m         dataset \u001b[38;5;241m=\u001b[39m pickle\u001b[38;5;241m.\u001b[39mload(file)\n\u001b[1;32m     12\u001b[0m     \u001b[38;5;28;01mreturn\u001b[39;00m dataset\n",
      "File \u001b[0;32m/opt/conda/envs/torch-maic2023/lib/python3.9/site-packages/IPython/core/interactiveshell.py:303\u001b[0m, in \u001b[0;36m_modified_open\u001b[0;34m(file, *args, **kwargs)\u001b[0m\n\u001b[1;32m    301\u001b[0m \u001b[38;5;129m@functools\u001b[39m\u001b[38;5;241m.\u001b[39mwraps(io_open)\n\u001b[1;32m    302\u001b[0m \u001b[38;5;28;01mdef\u001b[39;00m \u001b[38;5;21m_modified_open\u001b[39m(file, \u001b[38;5;241m*\u001b[39margs, \u001b[38;5;241m*\u001b[39m\u001b[38;5;241m*\u001b[39mkwargs):\n\u001b[0;32m--> 303\u001b[0m     \u001b[38;5;28;01mif\u001b[39;00m \u001b[43mfile\u001b[49m\u001b[43m \u001b[49m\u001b[38;5;129;43;01min\u001b[39;49;00m\u001b[43m \u001b[49m\u001b[43m{\u001b[49m\u001b[38;5;241;43m0\u001b[39;49m\u001b[43m,\u001b[49m\u001b[43m \u001b[49m\u001b[38;5;241;43m1\u001b[39;49m\u001b[43m,\u001b[49m\u001b[43m \u001b[49m\u001b[38;5;241;43m2\u001b[39;49m\u001b[43m}\u001b[49m:\n\u001b[1;32m    304\u001b[0m         \u001b[38;5;28;01mraise\u001b[39;00m \u001b[38;5;167;01mValueError\u001b[39;00m(\n\u001b[1;32m    305\u001b[0m             \u001b[38;5;124mf\u001b[39m\u001b[38;5;124m\"\u001b[39m\u001b[38;5;124mIPython won\u001b[39m\u001b[38;5;124m'\u001b[39m\u001b[38;5;124mt let you open fd=\u001b[39m\u001b[38;5;132;01m{\u001b[39;00mfile\u001b[38;5;132;01m}\u001b[39;00m\u001b[38;5;124m by default \u001b[39m\u001b[38;5;124m\"\u001b[39m\n\u001b[1;32m    306\u001b[0m             \u001b[38;5;124m\"\u001b[39m\u001b[38;5;124mas it is likely to crash IPython. If you know what you are doing, \u001b[39m\u001b[38;5;124m\"\u001b[39m\n\u001b[1;32m    307\u001b[0m             \u001b[38;5;124m\"\u001b[39m\u001b[38;5;124myou can use builtins\u001b[39m\u001b[38;5;124m'\u001b[39m\u001b[38;5;124m open.\u001b[39m\u001b[38;5;124m\"\u001b[39m\n\u001b[1;32m    308\u001b[0m         )\n\u001b[1;32m    310\u001b[0m     \u001b[38;5;28;01mreturn\u001b[39;00m io_open(file, \u001b[38;5;241m*\u001b[39margs, \u001b[38;5;241m*\u001b[39m\u001b[38;5;241m*\u001b[39mkwargs)\n",
      "\u001b[0;31mTypeError\u001b[0m: unhashable type: 'list'"
     ]
    }
   ],
   "source": [
    "train_wsi = load_dataset_from_pickle(train_pkl_list)"
   ]
  },
  {
   "cell_type": "code",
   "execution_count": 30,
   "id": "234008f5-2d45-49ad-9c64-52ab7b15c7a3",
   "metadata": {
    "tags": []
   },
   "outputs": [
    {
     "ename": "NameError",
     "evalue": "name 'train_wsi' is not defined",
     "output_type": "error",
     "traceback": [
      "\u001b[0;31m---------------------------------------------------------------------------\u001b[0m",
      "\u001b[0;31mNameError\u001b[0m                                 Traceback (most recent call last)",
      "Cell \u001b[0;32mIn[30], line 1\u001b[0m\n\u001b[0;32m----> 1\u001b[0m train_wsi_data_loader \u001b[38;5;241m=\u001b[39m DataLoader(\u001b[43mtrain_wsi\u001b[49m, batch_size\u001b[38;5;241m=\u001b[39mbatch_size, shuffle\u001b[38;5;241m=\u001b[39m\u001b[38;5;28;01mTrue\u001b[39;00m, drop_last\u001b[38;5;241m=\u001b[39m\u001b[38;5;28;01mTrue\u001b[39;00m)\n",
      "\u001b[0;31mNameError\u001b[0m: name 'train_wsi' is not defined"
     ]
    }
   ],
   "source": [
    "train_wsi_data_loader = DataLoader(train_wsi, batch_size=batch_size, shuffle=True, drop_last=True)"
   ]
  },
  {
   "cell_type": "code",
   "execution_count": null,
   "id": "399b8ae4-5274-4a94-a4ce-ee4979859555",
   "metadata": {},
   "outputs": [],
   "source": []
  },
  {
   "cell_type": "code",
   "execution_count": 6,
   "id": "96124d2d-4bc6-4a91-990c-88e62954a04f",
   "metadata": {
    "tags": []
   },
   "outputs": [
    {
     "data": {
      "text/plain": [
       "Index(['index', 'Slide_name', 'Patient_ID', 'Recurrence', 'Location',\n",
       "       'Diagnosis', 'Growth phase', 'Size of tumor', 'Depth of invasion',\n",
       "       'Level of invasion', 'Mitosis', 'Histologic subtype', 'Tumor cell type',\n",
       "       'Surgical margin', 'Lymph node', 'Breslow thickness',\n",
       "       'Precursor lesion', 'Date_of_diagnosis', 'Date_of_recurrence',\n",
       "       'recurrence_period', 'psudo_label'],\n",
       "      dtype='object')"
      ]
     },
     "execution_count": 6,
     "metadata": {},
     "output_type": "execute_result"
    }
   ],
   "source": [
    "train_df.columns"
   ]
  },
  {
   "cell_type": "code",
   "execution_count": 8,
   "id": "6331fd01-bc9d-48fa-9a12-68ed64175a54",
   "metadata": {
    "tags": []
   },
   "outputs": [],
   "source": [
    "recurrence_counts = train_df['Recurrence'].value_counts()"
   ]
  },
  {
   "cell_type": "code",
   "execution_count": 9,
   "id": "4e8ecb10-b4f5-4141-a5b9-9818e4d6d0fc",
   "metadata": {
    "tags": []
   },
   "outputs": [
    {
     "data": {
      "text/plain": [
       "Recurrence\n",
       "0    552\n",
       "1    169\n",
       "Name: count, dtype: int64"
      ]
     },
     "execution_count": 9,
     "metadata": {},
     "output_type": "execute_result"
    }
   ],
   "source": [
    "recurrence_counts"
   ]
  },
  {
   "cell_type": "code",
   "execution_count": 14,
   "id": "21a351a8-f81e-495e-a918-e520eda503b4",
   "metadata": {
    "tags": []
   },
   "outputs": [
    {
     "data": {
      "text/plain": [
       "tensor(4.2663, dtype=torch.float64)"
      ]
     },
     "execution_count": 14,
     "metadata": {},
     "output_type": "execute_result"
    }
   ],
   "source": [
    "torch.tensor([len(train_df)/recurrence_counts.get(1,0)])"
   ]
  },
  {
   "cell_type": "code",
   "execution_count": 40,
   "id": "03ab679a-6b3d-4fc5-815c-59523867324a",
   "metadata": {
    "tags": []
   },
   "outputs": [],
   "source": [
    "k = [1,2,3,4,5,6]"
   ]
  },
  {
   "cell_type": "code",
   "execution_count": 41,
   "id": "7e0eda93-ab6e-449b-a561-d6e099468760",
   "metadata": {
    "tags": []
   },
   "outputs": [],
   "source": [
    "random.shuffle(k)"
   ]
  },
  {
   "cell_type": "code",
   "execution_count": 42,
   "id": "e189ce08-0e84-4e9d-9557-b32ed8cdc225",
   "metadata": {
    "tags": []
   },
   "outputs": [
    {
     "data": {
      "text/plain": [
       "[5, 1, 3, 4, 6, 2]"
      ]
     },
     "execution_count": 42,
     "metadata": {},
     "output_type": "execute_result"
    }
   ],
   "source": [
    "k"
   ]
  },
  {
   "cell_type": "code",
   "execution_count": 47,
   "id": "914f887e-f8df-4e62-a9b0-b2724276e55a",
   "metadata": {
    "tags": []
   },
   "outputs": [
    {
     "data": {
      "text/plain": [
       "173"
      ]
     },
     "execution_count": 47,
     "metadata": {},
     "output_type": "execute_result"
    }
   ],
   "source": [
    "valid_df = pd.read_csv('../total_split_train_val/fold_4_val.csv')\n",
    "valid_pkl_name_list = valid_df['Slide_name'].tolist()\n",
    "valid_pkl_list=[]\n",
    "for name in valid_pkl_name_list :\n",
    "    valid_pkl_list.append(f'../re_pickle_train_patch/{name}_patch.pkl')\n",
    "len(valid_pkl_list)"
   ]
  },
  {
   "cell_type": "code",
   "execution_count": 76,
   "id": "196476ea-6881-46a0-a9bb-cec464078362",
   "metadata": {
    "tags": []
   },
   "outputs": [],
   "source": [
    "valid_wsi = load_dataset_from_pickle(valid_pkl_list[0])"
   ]
  },
  {
   "cell_type": "code",
   "execution_count": 77,
   "id": "35a90fb9-a7b5-4300-bad8-f70e010f8b01",
   "metadata": {
    "tags": []
   },
   "outputs": [],
   "source": [
    "valid_loader=DataLoader(valid_wsi,batch_size=1, shuffle=True, drop_last=False)"
   ]
  },
  {
   "cell_type": "code",
   "execution_count": 82,
   "id": "d9dedd38-f7c7-48a7-818f-08989e98388c",
   "metadata": {
    "tags": []
   },
   "outputs": [
    {
     "name": "stdout",
     "output_type": "stream",
     "text": [
      "torch.Size([1, 224, 224, 3])\n",
      "torch.Size([1, 3, 224, 224])\n"
     ]
    }
   ],
   "source": [
    "for patch, label in valid_loader : # transposed_tensor = torch.transpose(tensor, 0, 2).contiguous()\n",
    "    print(patch.shape)\n",
    "    patch = torch.transpose(patch, 1, 3).contiguous()\n",
    "    print(patch.shape)\n",
    "    break"
   ]
  },
  {
   "cell_type": "code",
   "execution_count": 79,
   "id": "03840fbc-6f83-4915-93fa-74f11499635d",
   "metadata": {},
   "outputs": [
    {
     "name": "stdout",
     "output_type": "stream",
     "text": [
      "Sat Jan 20 15:31:12 2024       \n",
      "+-----------------------------------------------------------------------------+\n",
      "| NVIDIA-SMI 515.65.01    Driver Version: 515.65.01    CUDA Version: 11.7     |\n",
      "|-------------------------------+----------------------+----------------------+\n",
      "| GPU  Name        Persistence-M| Bus-Id        Disp.A | Volatile Uncorr. ECC |\n",
      "| Fan  Temp  Perf  Pwr:Usage/Cap|         Memory-Usage | GPU-Util  Compute M. |\n",
      "|                               |                      |               MIG M. |\n",
      "|===============================+======================+======================|\n",
      "|   0  NVIDIA RTX A6000    On   | 00000000:48:00.0 Off |                  Off |\n",
      "| 30%   36C    P8    29W / 300W |    786MiB / 49140MiB |      0%      Default |\n",
      "|                               |                      |                  N/A |\n",
      "+-------------------------------+----------------------+----------------------+\n",
      "                                                                               \n",
      "+-----------------------------------------------------------------------------+\n",
      "| Processes:                                                                  |\n",
      "|  GPU   GI   CI        PID   Type   Process name                  GPU Memory |\n",
      "|        ID   ID                                                   Usage      |\n",
      "|=============================================================================|\n",
      "+-----------------------------------------------------------------------------+\n"
     ]
    }
   ],
   "source": [
    "!nvidia-smi"
   ]
  },
  {
   "cell_type": "code",
   "execution_count": 33,
   "id": "776634a2-035e-459f-a0fd-e83d3e5215ee",
   "metadata": {
    "tags": []
   },
   "outputs": [
    {
     "name": "stdout",
     "output_type": "stream",
     "text": [
      "seed setting complete\n"
     ]
    }
   ],
   "source": [
    "SEED = 42\n",
    "PATCH_SIZE = (224, 224) # width, height\n",
    "OVERLAP_RATIO = 0.5\n",
    "TISSUE_AREA_RATIO = 0.5\n",
    "DROP_RATE = 0.5\n",
    "TOPK = 5 # MIL top K\n",
    "EPOCH = 20\n",
    "LEARNING_RATE = 1e-5\n",
    "WEIGHT_DECAY = 3e-5\n",
    "device = 'cuda' if torch.cuda.is_available() else 'cpu'\n",
    "GPU_IDX = 'cuda'\n",
    "DATE = '240102'\n",
    "seed_everything(SEED)"
   ]
  },
  {
   "cell_type": "code",
   "execution_count": 22,
   "id": "40da22f8-a390-4d7a-b722-605ceadfe9e8",
   "metadata": {
    "tags": []
   },
   "outputs": [],
   "source": [
    "from backbone import BackboneResNet\n",
    "from dsmil import IClassifier, BClassifier, MILNet\n",
    "from sklearn.metrics import roc_curve, roc_auc_score, precision_recall_fscore_support, accuracy_score\n",
    "from sklearn.utils import shuffle"
   ]
  },
  {
   "cell_type": "code",
   "execution_count": 23,
   "id": "f989e861-6663-43e9-bb2d-ee2e7ae81c03",
   "metadata": {
    "tags": []
   },
   "outputs": [
    {
     "name": "stdout",
     "output_type": "stream",
     "text": [
      "Feature extractor: resnet18\n"
     ]
    }
   ],
   "source": [
    "feature_extractor = BackboneResNet('resnet18')"
   ]
  },
  {
   "cell_type": "code",
   "execution_count": 24,
   "id": "e0945a3f-5134-4269-b8f0-c21fb3101f25",
   "metadata": {},
   "outputs": [],
   "source": [
    "instance_classifier = IClassifier(backbone=feature_extractor, freeze=True, out_dim=1)\n",
    "bag_classifier = BClassifier(input_size=512, output_class=1, nonlinear=True)"
   ]
  },
  {
   "cell_type": "code",
   "execution_count": 25,
   "id": "bfc2f2b5-3b91-40b1-b93d-49b19035b17e",
   "metadata": {
    "tags": []
   },
   "outputs": [],
   "source": [
    "milnet = MILNet(instance_classifier, bag_classifier).to(device)\n",
    "pos_weight = torch.tensor([4.0]).to(device)\n",
    "criterion = nn.BCEWithLogitsLoss(pos_weight=pos_weight)\n",
    "optimizer = torch.optim.Adam(milnet.parameters(), lr=LEARNING_RATE, betas=(0.5, 0.9), weight_decay=WEIGHT_DECAY)\n",
    "scheduler = torch.optim.lr_scheduler.CosineAnnealingLR(optimizer, EPOCH, 0)"
   ]
  },
  {
   "cell_type": "code",
   "execution_count": 26,
   "id": "b91e4f79-f440-42c6-8a61-5dc6c138bf11",
   "metadata": {
    "tags": []
   },
   "outputs": [],
   "source": [
    "train_pkl_list_test = ['../pickle_train_patch/dataset_train_894_patch.pkl']"
   ]
  },
  {
   "cell_type": "code",
   "execution_count": 36,
   "id": "017d8d3b-1cd9-493e-a14c-339b0da90313",
   "metadata": {
    "tags": []
   },
   "outputs": [],
   "source": [
    "batch_size=800"
   ]
  },
  {
   "cell_type": "code",
   "execution_count": 19,
   "id": "8f6de4ca-e155-47d6-9c84-b0a63ca1b7b1",
   "metadata": {
    "tags": []
   },
   "outputs": [
    {
     "name": "stdout",
     "output_type": "stream",
     "text": [
      "_CudaDeviceProperties(name='NVIDIA RTX A6000', major=8, minor=6, total_memory=48685MB, multi_processor_count=84)\n"
     ]
    }
   ],
   "source": [
    "gpu_properties = torch.cuda.get_device_properties(0)\n",
    "print(gpu_properties)"
   ]
  },
  {
   "cell_type": "code",
   "execution_count": 39,
   "id": "f018fd95-01f1-4edb-b808-3573f86ef1ec",
   "metadata": {
    "tags": []
   },
   "outputs": [],
   "source": [
    "def collate_fn(batch):\n",
    "    # 각 배치의 patch 개수에 따라 동적으로 배치 크기를 조정\n",
    "    max_patch_count = max(len(item[1]) for item in batch)\n",
    "    batch_size = min(800, max_patch_count)\n",
    "    \n",
    "    # 나머지 collate_fn 로직 추가\n",
    "\n",
    "    return batch"
   ]
  },
  {
   "cell_type": "code",
   "execution_count": 37,
   "id": "4a9cce53-d9d4-41b3-9a09-73c91a324749",
   "metadata": {},
   "outputs": [
    {
     "data": {
      "application/vnd.jupyter.widget-view+json": {
       "model_id": "e0033ea991a74fd8bc1a0045cb478312",
       "version_major": 2,
       "version_minor": 0
      },
      "text/plain": [
       "  0%|          | 0/20 [00:00<?, ?it/s]"
      ]
     },
     "metadata": {},
     "output_type": "display_data"
    },
    {
     "name": "stdout",
     "output_type": "stream",
     "text": [
      "-------######0 start######------\n",
      "epoch_loss : 2.5949981212615967\n",
      "551.133696\n"
     ]
    }
   ],
   "source": [
    "milnet.train()\n",
    "for epoch in tqdm(range(EPOCH)) :\n",
    "    print(f'-------######{epoch} start######------')\n",
    "    epoch_loss=0\n",
    "    for train_wsi_path in train_pkl_list_test:\n",
    "        train_wsi = load_dataset_from_pickle(train_wsi_path)\n",
    "        train_wsi_data_loader = DataLoader(train_wsi, batch_size=batch_size, shuffle=True, drop_last=True)\n",
    "        if len(train_wsi_data_loader)==0:\n",
    "            break\n",
    "        else :\n",
    "            batch_loss=0\n",
    "            for wsi_patch, wsi_label in train_wsi_data_loader :\n",
    "                label = torch.tensor([[wsi_label[0]]])\n",
    "                wsi_patch, label = wsi_patch.to(device).float(), label.to(device).float()\n",
    "                optimizer.zero_grad()\n",
    "                instance_prediction, bag_prediction, _, _ = milnet(wsi_patch)\n",
    "                max_prediction, index = torch.max(instance_prediction, 0)\n",
    "                loss_bag = criterion(bag_prediction.view(1,-1), label)\n",
    "                loss_instance = criterion(max_prediction.view(1,-1), label)\n",
    "                loss_total = 0.5*loss_bag+0.5*loss_instance\n",
    "                batch_loss += loss_total.item()\n",
    "                loss_total.backward()\n",
    "                optimizer.step()\n",
    "            epoch_loss += batch_loss/(len(train_wsi_data_loader))\n",
    "    print('epoch_loss :' ,epoch_loss/len(train_pkl_list_test))\n",
    "    print(torch.cuda.memory_allocated() / 1e6)\n",
    "    break\n",
    "    if True  :\n",
    "        bag_labels = []\n",
    "        bag_predictions = []\n",
    "        milnet.eval()\n",
    "        with torch.no_grad() :\n",
    "            for valid_wsi_path in valid_pkl_list[-10:] :\n",
    "                valid_wsi = load_dataset_from_pickle(valid_wsi_path)\n",
    "                valid_loader=DataLoader(valid_wsi,batch_size=batch_size, shuffle=True, drop_last=False)\n",
    "                print(valid_wsi_path, len(valid_loader), sep='\\n')\n",
    "                batch_result = []\n",
    "                batch_label = []\n",
    "                for data, label in valid_loader:\n",
    "                    data = data.to(device).float()\n",
    "                    batch_label.append(int(label[0]))\n",
    "                    instance_prediction, bag_prediction, _, _ = milnet(data)\n",
    "                    bag_prediction = F.softmax(bag_prediction, dim=1)\n",
    "                    bag_prediction = bag_prediction.item()\n",
    "                    batch_result.append(int(bag_prediction))\n",
    "                bag_predictions.append(int(any(batch_result)))\n",
    "                bag_labels.append(int(any(batch_label)))\n",
    "                # print(bag_labels, bag_predictions, sep='\\n')\n",
    "    #         if all(value == 1 for value in bag_predictions) or all(value == 0 for value in bag_predictions):\n",
    "    #             print(\"모두 1 또는 모두 0입니다.\")\n",
    "    #         else :\n",
    "    #             try :\n",
    "    #                 precision, recall, fscore, _ = precision_recall_fscore_support(bag_labels, bag_predictions)\n",
    "    #                 auc_value = roc_auc_score(bag_labels, bag_predictions)\n",
    "    #                 accuracy = accuracy_score(bag_labels, bag_predictions)\n",
    "    #                 print('accuracy : ', accuracy, 'precision : ', precision, 'auc_value : ',auc_value)\n",
    "    #             except :\n",
    "    #                 print(f'bag_label : {bag_labels}, bag_prediction : {bag_predictions}')\n",
    "        # milnet.train()\n",
    "    scheduler.step()\n",
    "    random.shuffle(train_pkl_list)\n",
    "    if ((epoch+1)%5)==0 :\n",
    "        torch.save(milnet, f'./dsmilnet{epoch+1}.pt')\n",
    "        "
   ]
  },
  {
   "cell_type": "code",
   "execution_count": 35,
   "id": "b75e908f-a028-450f-af33-76ec87da6a54",
   "metadata": {
    "tags": []
   },
   "outputs": [
    {
     "name": "stdout",
     "output_type": "stream",
     "text": [
      "torch.Size([250, 3, 512, 512]) tensor([0, 0, 0, 0, 0, 0, 0, 0, 0, 0, 0, 0, 0, 0, 0, 0, 0, 0, 0, 0, 0, 0, 0, 0,\n",
      "        0, 0, 0, 0, 0, 0, 0, 0, 0, 0, 0, 0, 0, 0, 0, 0, 0, 0, 0, 0, 0, 0, 0, 0,\n",
      "        0, 0, 0, 0, 0, 0, 0, 0, 0, 0, 0, 0, 0, 0, 0, 0, 0, 0, 0, 0, 0, 0, 0, 0,\n",
      "        0, 0, 0, 0, 0, 0, 0, 0, 0, 0, 0, 0, 0, 0, 0, 0, 0, 0, 0, 0, 0, 0, 0, 0,\n",
      "        0, 0, 0, 0, 0, 0, 0, 0, 0, 0, 0, 0, 0, 0, 0, 0, 0, 0, 0, 0, 0, 0, 0, 0,\n",
      "        0, 0, 0, 0, 0, 0, 0, 0, 0, 0, 0, 0, 0, 0, 0, 0, 0, 0, 0, 0, 0, 0, 0, 0,\n",
      "        0, 0, 0, 0, 0, 0, 0, 0, 0, 0, 0, 0, 0, 0, 0, 0, 0, 0, 0, 0, 0, 0, 0, 0,\n",
      "        0, 0, 0, 0, 0, 0, 0, 0, 0, 0, 0, 0, 0, 0, 0, 0, 0, 0, 0, 0, 0, 0, 0, 0,\n",
      "        0, 0, 0, 0, 0, 0, 0, 0, 0, 0, 0, 0, 0, 0, 0, 0, 0, 0, 0, 0, 0, 0, 0, 0,\n",
      "        0, 0, 0, 0, 0, 0, 0, 0, 0, 0, 0, 0, 0, 0, 0, 0, 0, 0, 0, 0, 0, 0, 0, 0,\n",
      "        0, 0, 0, 0, 0, 0, 0, 0, 0, 0])\n"
     ]
    }
   ],
   "source": [
    "for vaild_wsi_path in valid_pkl_list :\n",
    "    valid_wsi = load_dataset_from_pickle(vaild_wsi_path)\n",
    "    valid_loader=DataLoader(valid_wsi,batch_size=batch_size, shuffle=True, drop_last=True)\n",
    "    for data, label in valid_loader:\n",
    "        data.to(device).float()\n",
    "        print(data.shape, label)\n",
    "        break\n",
    "    break"
   ]
  },
  {
   "cell_type": "code",
   "execution_count": 12,
   "id": "1f943a8d-c99c-4d25-baae-4b090eccdaba",
   "metadata": {
    "tags": []
   },
   "outputs": [],
   "source": [
    "aa = load_dataset_from_pickle('../pickle_train_patch/dataset_train_430_patch.pkl')"
   ]
  },
  {
   "cell_type": "code",
   "execution_count": 13,
   "id": "8b68ae5d-b472-4d95-bce3-7a6541b274dd",
   "metadata": {
    "tags": []
   },
   "outputs": [
    {
     "data": {
      "text/plain": [
       "765"
      ]
     },
     "execution_count": 13,
     "metadata": {},
     "output_type": "execute_result"
    }
   ],
   "source": [
    "len(aa)"
   ]
  },
  {
   "cell_type": "code",
   "execution_count": 18,
   "id": "c8fadd9c-db77-48de-b7c4-5849be151d68",
   "metadata": {
    "tags": []
   },
   "outputs": [],
   "source": [
    "aa_loader=DataLoader(aa, batch_size=800, shuffle=True, drop_last=True)"
   ]
  },
  {
   "cell_type": "code",
   "execution_count": 19,
   "id": "64bcbe9c-b51e-4dc3-9399-573b7f49d232",
   "metadata": {
    "tags": []
   },
   "outputs": [
    {
     "data": {
      "text/plain": [
       "0"
      ]
     },
     "execution_count": 19,
     "metadata": {},
     "output_type": "execute_result"
    }
   ],
   "source": [
    "len(aa_loader)"
   ]
  },
  {
   "cell_type": "code",
   "execution_count": 17,
   "id": "907b22bd-a299-480d-bf67-e46b9650f863",
   "metadata": {
    "tags": []
   },
   "outputs": [
    {
     "name": "stdout",
     "output_type": "stream",
     "text": [
      "torch.Size([250, 3, 224, 224]) tensor([0, 0, 0, 0, 0, 0, 0, 0, 0, 0, 0, 0, 0, 0, 0, 0, 0, 0, 0, 0, 0, 0, 0, 0,\n",
      "        0, 0, 0, 0, 0, 0, 0, 0, 0, 0, 0, 0, 0, 0, 0, 0, 0, 0, 0, 0, 0, 0, 0, 0,\n",
      "        0, 0, 0, 0, 0, 0, 0, 0, 0, 0, 0, 0, 0, 0, 0, 0, 0, 0, 0, 0, 0, 0, 0, 0,\n",
      "        0, 0, 0, 0, 0, 0, 0, 0, 0, 0, 0, 0, 0, 0, 0, 0, 0, 0, 0, 0, 0, 0, 0, 0,\n",
      "        0, 0, 0, 0, 0, 0, 0, 0, 0, 0, 0, 0, 0, 0, 0, 0, 0, 0, 0, 0, 0, 0, 0, 0,\n",
      "        0, 0, 0, 0, 0, 0, 0, 0, 0, 0, 0, 0, 0, 0, 0, 0, 0, 0, 0, 0, 0, 0, 0, 0,\n",
      "        0, 0, 0, 0, 0, 0, 0, 0, 0, 0, 0, 0, 0, 0, 0, 0, 0, 0, 0, 0, 0, 0, 0, 0,\n",
      "        0, 0, 0, 0, 0, 0, 0, 0, 0, 0, 0, 0, 0, 0, 0, 0, 0, 0, 0, 0, 0, 0, 0, 0,\n",
      "        0, 0, 0, 0, 0, 0, 0, 0, 0, 0, 0, 0, 0, 0, 0, 0, 0, 0, 0, 0, 0, 0, 0, 0,\n",
      "        0, 0, 0, 0, 0, 0, 0, 0, 0, 0, 0, 0, 0, 0, 0, 0, 0, 0, 0, 0, 0, 0, 0, 0,\n",
      "        0, 0, 0, 0, 0, 0, 0, 0, 0, 0])\n"
     ]
    },
    {
     "ename": "NameError",
     "evalue": "name 'hi' is not defined",
     "output_type": "error",
     "traceback": [
      "\u001b[0;31m---------------------------------------------------------------------------\u001b[0m",
      "\u001b[0;31mNameError\u001b[0m                                 Traceback (most recent call last)",
      "Cell \u001b[0;32mIn[17], line 8\u001b[0m\n\u001b[1;32m      6\u001b[0m     \u001b[38;5;28mprint\u001b[39m(\u001b[38;5;124mf\u001b[39m\u001b[38;5;124m'\u001b[39m\u001b[38;5;124mError: too many values to unpack (expected 2) in \u001b[39m\u001b[38;5;132;01m{\u001b[39;00mvalid_wsi_path\u001b[38;5;132;01m}\u001b[39;00m\u001b[38;5;124m'\u001b[39m)\n\u001b[1;32m      7\u001b[0m     \u001b[38;5;28;01mbreak\u001b[39;00m\n\u001b[0;32m----> 8\u001b[0m \u001b[38;5;28mprint\u001b[39m(\u001b[43mhi\u001b[49m)\n",
      "\u001b[0;31mNameError\u001b[0m: name 'hi' is not defined"
     ]
    }
   ],
   "source": [
    "for batch in aa_loader : \n",
    "    batch_count += 1\n",
    "    print(batch[0].shape,batch[1])\n",
    "    try :\n",
    "        data, label = batch\n",
    "    except :\n",
    "        print(f'Error: too many values to unpack (expected 2) in {valid_wsi_path}')\n",
    "        break\n",
    "    print(hi)"
   ]
  },
  {
   "cell_type": "code",
   "execution_count": 54,
   "id": "0c104144-f829-41cd-8084-d405eee8b2ee",
   "metadata": {
    "tags": []
   },
   "outputs": [
    {
     "ename": "TypeError",
     "evalue": "'DataLoader' object is not subscriptable",
     "output_type": "error",
     "traceback": [
      "\u001b[0;31m---------------------------------------------------------------------------\u001b[0m",
      "\u001b[0;31mTypeError\u001b[0m                                 Traceback (most recent call last)",
      "Cell \u001b[0;32mIn[54], line 1\u001b[0m\n\u001b[0;32m----> 1\u001b[0m \u001b[43maa_loader\u001b[49m\u001b[43m[\u001b[49m\u001b[38;5;241;43m0\u001b[39;49m\u001b[43m]\u001b[49m\n",
      "\u001b[0;31mTypeError\u001b[0m: 'DataLoader' object is not subscriptable"
     ]
    }
   ],
   "source": []
  },
  {
   "cell_type": "code",
   "execution_count": 74,
   "id": "9bef03cf-4fb9-4de1-a576-2a7ae48bf0bb",
   "metadata": {},
   "outputs": [
    {
     "name": "stdout",
     "output_type": "stream",
     "text": [
      "/bin/bash: nvidia: command not found\n"
     ]
    }
   ],
   "source": [
    "!nvidia -smi"
   ]
  },
  {
   "cell_type": "code",
   "execution_count": null,
   "id": "2279b79a-3a47-477c-a852-2d1cfe4a1917",
   "metadata": {},
   "outputs": [],
   "source": []
  }
 ],
 "metadata": {
  "kernelspec": {
   "display_name": "Python 3 (ipykernel)",
   "language": "python",
   "name": "python3"
  },
  "language_info": {
   "codemirror_mode": {
    "name": "ipython",
    "version": 3
   },
   "file_extension": ".py",
   "mimetype": "text/x-python",
   "name": "python",
   "nbconvert_exporter": "python",
   "pygments_lexer": "ipython3",
   "version": "3.10.13"
  }
 },
 "nbformat": 4,
 "nbformat_minor": 5
}
