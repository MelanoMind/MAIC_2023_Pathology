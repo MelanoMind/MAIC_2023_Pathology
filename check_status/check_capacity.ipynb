{
 "cells": [
  {
   "cell_type": "code",
   "execution_count": 4,
   "id": "28f0e587-2484-4e94-8fd3-cc476c2bdc94",
   "metadata": {
    "tags": []
   },
   "outputs": [],
   "source": [
    "# import os\n",
    "# from os.path import join, getsize\n",
    "\n",
    "# os.chdir(\"/home/maic-player/workspace\")\n",
    "\n",
    "# for root, dirs, files in os.walk('.'):\n",
    "#     result = \"%s : %.f MB in %d files.\" % (os.path.abspath(root), sum([getsize(join(root, name)) for name in files]) / (1024.0 * 1024.0), len(files))\n",
    "#     print(result)"
   ]
  },
  {
   "cell_type": "code",
   "execution_count": 5,
   "id": "49641e56-9515-4973-bfe9-f1aea87123d7",
   "metadata": {
    "tags": []
   },
   "outputs": [
    {
     "name": "stdout",
     "output_type": "stream",
     "text": [
      "Filesystem                           Size  Used Avail Use% Mounted on\n",
      "overlay                              787G  305G  442G  41% /\n",
      "tmpfs                                 64M     0   64M   0% /dev\n",
      "shm                                   64M  1.2M   63M   2% /dev/shm\n",
      "/dev/nvme0n1p3                       787G  305G  442G  41% /etc/hosts\n",
      ":/storage/maic2023/node2/workspace2  109T  8.9T   95T   9% /home/maic-player/workspace\n",
      "/dev/sda1                            932G  454G  479G  49% /home/maic-player/workspace/dataset\n",
      "tmpfs                                504G   12K  504G   1% /proc/driver/nvidia\n",
      "tmpfs                                101G   33M  101G   1% /run/nvidia-persistenced/socket\n",
      "udev                                 504G     0  504G   0% /dev/nvidia1\n",
      "tmpfs                                504G     0  504G   0% /proc/asound\n",
      "tmpfs                                504G     0  504G   0% /proc/acpi\n",
      "tmpfs                                504G     0  504G   0% /proc/scsi\n",
      "tmpfs                                504G     0  504G   0% /sys/firmware\n",
      "tmpfs                                504G     0  504G   0% /sys/devices/virtual/powercap\n"
     ]
    }
   ],
   "source": [
    "! cd / && df -h"
   ]
  },
  {
   "cell_type": "code",
   "execution_count": 10,
   "id": "98fd485a-b5ec-4c28-bbc3-74232457b148",
   "metadata": {},
   "outputs": [],
   "source": [
    "# ! cd /home/maic-player/workspace/.Trash-1000/files"
   ]
  },
  {
   "cell_type": "code",
   "execution_count": 2,
   "id": "decb8160-cb0c-487b-a9ee-17d44df9093c",
   "metadata": {
    "tags": []
   },
   "outputs": [],
   "source": [
    "import shutil\n",
    "shutil.rmtree(\"/home/maic-player/workspace/.Trash-1000/files\")"
   ]
  },
  {
   "cell_type": "code",
   "execution_count": null,
   "id": "025584d8-52f9-40fb-a964-e53e2c988b44",
   "metadata": {},
   "outputs": [],
   "source": []
  }
 ],
 "metadata": {
  "kernelspec": {
   "display_name": "Python [conda env:torch-maic2023]",
   "language": "python",
   "name": "conda-env-torch-maic2023-py"
  },
  "language_info": {
   "codemirror_mode": {
    "name": "ipython",
    "version": 3
   },
   "file_extension": ".py",
   "mimetype": "text/x-python",
   "name": "python",
   "nbconvert_exporter": "python",
   "pygments_lexer": "ipython3",
   "version": "3.9.18"
  }
 },
 "nbformat": 4,
 "nbformat_minor": 5
}
