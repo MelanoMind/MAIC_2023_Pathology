{
 "cells": [
  {
   "cell_type": "code",
   "execution_count": null,
   "id": "01d337a3-aa0a-4271-b197-7732edd5bfc3",
   "metadata": {},
   "outputs": [],
   "source": [
    "# torch환경에서 gpu가 작동하는지 테스트합니다.\n",
    "# torch-maic2023 환경에서 진행해야 합니다."
   ]
  },
  {
   "cell_type": "code",
   "execution_count": 1,
   "id": "97303410-6321-44f6-bee8-62059a61a1c3",
   "metadata": {
    "tags": []
   },
   "outputs": [],
   "source": [
    "import torch\n",
    "import time"
   ]
  },
  {
   "cell_type": "code",
   "execution_count": 2,
   "id": "13382eaa-4319-44ca-aebf-1cf4ef57f143",
   "metadata": {
    "tags": []
   },
   "outputs": [
    {
     "name": "stdout",
     "output_type": "stream",
     "text": [
      "GPU 사용가능 여부 : True\n",
      "GPU명 : NVIDIA RTX A6000\n"
     ]
    }
   ],
   "source": [
    "print(f\"GPU 사용가능 여부 : {torch.cuda.is_available()}\\nGPU명 : {torch.cuda.get_device_name(0)}\")"
   ]
  },
  {
   "cell_type": "code",
   "execution_count": 3,
   "id": "23b522d3-c759-4311-8769-e58c66277063",
   "metadata": {
    "tags": []
   },
   "outputs": [],
   "source": [
    "def calcul_test(device,size):\n",
    "    mat_1 = torch.normal(0, 1, size = (size,size), device=device)\n",
    "    mat_2 = torch.normal(0, 1, size = (size,size), device=device)\n",
    "    return torch.matmul(mat_1,mat_2)\n",
    "cpu = torch.device('cpu')\n",
    "gpu = torch.device('cuda')"
   ]
  },
  {
   "cell_type": "code",
   "execution_count": 4,
   "id": "f1a669b4-f939-436e-844e-9e55fc84ed42",
   "metadata": {
    "tags": []
   },
   "outputs": [
    {
     "name": "stdout",
     "output_type": "stream",
     "text": [
      "7.164023160934448\n"
     ]
    }
   ],
   "source": [
    "start = time.time()\n",
    "calcul_test(cpu,10000)\n",
    "print(time.time() - start)"
   ]
  },
  {
   "cell_type": "code",
   "execution_count": 5,
   "id": "90872f5e-c3d9-42f0-8565-6d6d2fe2052b",
   "metadata": {
    "tags": []
   },
   "outputs": [
    {
     "name": "stdout",
     "output_type": "stream",
     "text": [
      "3.8052024841308594\n"
     ]
    }
   ],
   "source": [
    "start = time.time()\n",
    "calcul_test(gpu,50000)\n",
    "print(time.time() - start)"
   ]
  },
  {
   "cell_type": "code",
   "execution_count": null,
   "id": "95f64e85-3dfe-4703-9b11-b0244734e6d8",
   "metadata": {},
   "outputs": [],
   "source": []
  }
 ],
 "metadata": {
  "kernelspec": {
   "display_name": "Python [conda env:torch-maic2023]",
   "language": "python",
   "name": "conda-env-torch-maic2023-py"
  },
  "language_info": {
   "codemirror_mode": {
    "name": "ipython",
    "version": 3
   },
   "file_extension": ".py",
   "mimetype": "text/x-python",
   "name": "python",
   "nbconvert_exporter": "python",
   "pygments_lexer": "ipython3",
   "version": "3.9.18"
  }
 },
 "nbformat": 4,
 "nbformat_minor": 5
}
